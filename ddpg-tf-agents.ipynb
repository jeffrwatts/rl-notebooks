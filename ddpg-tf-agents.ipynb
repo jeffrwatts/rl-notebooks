{
 "cells": [
  {
   "cell_type": "code",
   "execution_count": 1,
   "metadata": {},
   "outputs": [],
   "source": [
    "from __future__ import absolute_import\n",
    "from __future__ import division\n",
    "from __future__ import print_function\n",
    "\n",
    "import base64\n",
    "import imageio\n",
    "import IPython\n",
    "import matplotlib\n",
    "import matplotlib.pyplot as plt\n",
    "import PIL.Image\n",
    "\n",
    "import tensorflow as tf\n",
    "tf.compat.v1.enable_v2_behavior()\n",
    "\n",
    "import ddpg_agent\n",
    "#from tf_agents.agents.ddpg import ddpg_agent\n",
    "from tf_agents.agents.ddpg import critic_network, actor_network\n",
    "from tf_agents.agents.sac import sac_agent\n",
    "from tf_agents.drivers import dynamic_step_driver\n",
    "from tf_agents.environments import suite_pybullet\n",
    "from tf_agents.environments import tf_py_environment\n",
    "from tf_agents.eval import metric_utils\n",
    "from tf_agents.metrics import tf_metrics\n",
    "from tf_agents.networks import actor_distribution_network\n",
    "from tf_agents.networks import normal_projection_network\n",
    "from tf_agents.policies import greedy_policy\n",
    "from tf_agents.policies import random_tf_policy\n",
    "from tf_agents.replay_buffers import tf_uniform_replay_buffer\n",
    "from tf_agents.trajectories import trajectory\n",
    "from tf_agents.utils import common\n",
    "\n",
    "from tf_agents.environments import suite_gym\n",
    "\n",
    "from tf_agents.utils import nest_utils"
   ]
  },
  {
   "cell_type": "code",
   "execution_count": 2,
   "metadata": {},
   "outputs": [
    {
     "data": {
      "text/plain": [
       "True"
      ]
     },
     "execution_count": 2,
     "metadata": {},
     "output_type": "execute_result"
    }
   ],
   "source": [
    "tf.executing_eagerly()"
   ]
  },
  {
   "cell_type": "code",
   "execution_count": 3,
   "metadata": {},
   "outputs": [],
   "source": [
    "env_name = 'Pendulum-v0'  # @param\n",
    "num_iterations = 20000  # @param\n",
    "\n",
    "initial_collect_steps = 1000  # @param\n",
    "collect_steps_per_iteration = 1  # @param\n",
    "replay_buffer_capacity = 100000  # @param\n",
    "\n",
    "batch_size = 64  # @param\n",
    "critic_learning_rate = 3e-4  # @param\n",
    "actor_learning_rate = 3e-4  # @param\n",
    "alpha_learning_rate = 3e-4 # @param\n",
    "target_update_tau = 0.005 # @param\n",
    "target_update_period = 1 #@param\n",
    "gamma = 0.99 #@param\n",
    "reward_scale_factor = 1.0 #@param\n",
    "gradient_clipping = None #@param\n",
    "\n",
    "actor_fc_layer_params = (256, 256)\n",
    "critic_joint_fc_layer_params = (256, 256)\n",
    "log_interval = 200  # @param\n",
    "\n",
    "num_eval_episodes = 10  # @param\n",
    "eval_interval = 1000  # @param"
   ]
  },
  {
   "cell_type": "code",
   "execution_count": 4,
   "metadata": {},
   "outputs": [],
   "source": [
    "env = suite_gym.load(env_name)"
   ]
  },
  {
   "cell_type": "code",
   "execution_count": 5,
   "metadata": {},
   "outputs": [],
   "source": [
    "train_py_env = suite_gym.load(env_name)\n",
    "eval_py_env = suite_gym.load(env_name)\n",
    "\n",
    "train_env = tf_py_environment.TFPyEnvironment(train_py_env)\n",
    "eval_env = tf_py_environment.TFPyEnvironment(eval_py_env)"
   ]
  },
  {
   "cell_type": "code",
   "execution_count": 6,
   "metadata": {},
   "outputs": [],
   "source": [
    "observation_spec = train_env.observation_spec()\n",
    "action_spec = train_env.action_spec()\n",
    "critic_net = critic_network.CriticNetwork(\n",
    "    (observation_spec, action_spec),\n",
    "    observation_fc_layer_params=None,\n",
    "    action_fc_layer_params=None,\n",
    "    joint_fc_layer_params=critic_joint_fc_layer_params)\n",
    "\n",
    "actor_net = actor_network.ActorNetwork(\n",
    "    observation_spec,\n",
    "    action_spec,\n",
    "    fc_layer_params=actor_fc_layer_params)"
   ]
  },
  {
   "cell_type": "code",
   "execution_count": 7,
   "metadata": {},
   "outputs": [],
   "source": [
    "global_step = tf.compat.v1.train.get_or_create_global_step()\n",
    "tf_agent = ddpg_agent.DdpgAgent(\n",
    "    train_env.time_step_spec(),\n",
    "    action_spec,\n",
    "    actor_network=actor_net,\n",
    "    critic_network=critic_net,\n",
    "    actor_optimizer=tf.compat.v1.train.AdamOptimizer(\n",
    "        learning_rate=actor_learning_rate),\n",
    "    critic_optimizer=tf.compat.v1.train.AdamOptimizer(\n",
    "        learning_rate=critic_learning_rate),\n",
    "    target_update_tau=target_update_tau,\n",
    "    target_update_period=target_update_period,\n",
    "    td_errors_loss_fn=tf.compat.v1.losses.mean_squared_error,\n",
    "    gamma=gamma,\n",
    "    reward_scale_factor=reward_scale_factor,\n",
    "    gradient_clipping=gradient_clipping,\n",
    "    train_step_counter=global_step)\n",
    "tf_agent.initialize()"
   ]
  },
  {
   "cell_type": "code",
   "execution_count": 8,
   "metadata": {},
   "outputs": [],
   "source": [
    "eval_policy = greedy_policy.GreedyPolicy(tf_agent.policy)\n",
    "collect_policy = tf_agent.collect_policy"
   ]
  },
  {
   "cell_type": "code",
   "execution_count": 9,
   "metadata": {},
   "outputs": [
    {
     "data": {
      "text/plain": [
       "-1362.666"
      ]
     },
     "execution_count": 9,
     "metadata": {},
     "output_type": "execute_result"
    }
   ],
   "source": [
    "def compute_avg_return(environment, policy, num_episodes=1):\n",
    "\n",
    "    total_return = 0.0\n",
    "    for _ in range(num_episodes):\n",
    "\n",
    "        time_step = environment.reset()\n",
    "        episode_return = 0.0\n",
    "\n",
    "        while not time_step.is_last():\n",
    "            action_step = policy.action(time_step)\n",
    "            time_step = environment.step(action_step.action)\n",
    "            episode_return += time_step.reward\n",
    "        total_return += episode_return\n",
    "\n",
    "    avg_return = total_return / num_episodes\n",
    "    return avg_return.numpy()[0]\n",
    "\n",
    "compute_avg_return(eval_env, eval_policy, num_eval_episodes)"
   ]
  },
  {
   "cell_type": "code",
   "execution_count": 10,
   "metadata": {},
   "outputs": [],
   "source": [
    "replay_buffer = tf_uniform_replay_buffer.TFUniformReplayBuffer(\n",
    "    data_spec=tf_agent.collect_data_spec,\n",
    "    batch_size=train_env.batch_size,\n",
    "    max_length=replay_buffer_capacity)"
   ]
  },
  {
   "cell_type": "code",
   "execution_count": 11,
   "metadata": {},
   "outputs": [
    {
     "data": {
      "text/plain": [
       "(TimeStep(step_type=<tf.Tensor: id=206046, shape=(1,), dtype=int32, numpy=array([2], dtype=int32)>, reward=<tf.Tensor: id=206047, shape=(1,), dtype=float32, numpy=array([-8.57783], dtype=float32)>, discount=<tf.Tensor: id=206048, shape=(1,), dtype=float32, numpy=array([1.], dtype=float32)>, observation=<tf.Tensor: id=206049, shape=(1, 3), dtype=float32, numpy=array([[-0.90373063, -0.42810157, -5.529249  ]], dtype=float32)>),\n",
       " ())"
      ]
     },
     "execution_count": 11,
     "metadata": {},
     "output_type": "execute_result"
    }
   ],
   "source": [
    "initial_collect_driver = dynamic_step_driver.DynamicStepDriver(\n",
    "        train_env,\n",
    "        collect_policy,\n",
    "        observers=[replay_buffer.add_batch],\n",
    "        num_steps=initial_collect_steps)\n",
    "initial_collect_driver.run()"
   ]
  },
  {
   "cell_type": "code",
   "execution_count": 12,
   "metadata": {},
   "outputs": [],
   "source": [
    "dataset = replay_buffer.as_dataset(num_parallel_calls=3, sample_batch_size=batch_size, num_steps=2).prefetch(3)\n",
    "\n",
    "iterator = iter(dataset)"
   ]
  },
  {
   "cell_type": "code",
   "execution_count": 13,
   "metadata": {},
   "outputs": [],
   "source": [
    "collect_driver = dynamic_step_driver.DynamicStepDriver(\n",
    "    train_env,\n",
    "    collect_policy,\n",
    "    observers=[replay_buffer.add_batch],\n",
    "    num_steps=collect_steps_per_iteration)"
   ]
  },
  {
   "cell_type": "code",
   "execution_count": 14,
   "metadata": {},
   "outputs": [
    {
     "name": "stdout",
     "output_type": "stream",
     "text": [
      "critic_loss called\n"
     ]
    },
    {
     "name": "stderr",
     "output_type": "stream",
     "text": [
      "WARNING: Logging before flag parsing goes to stderr.\n",
      "W0705 10:08:48.092117 4521391552 deprecation.py:323] From /Users/jwatts/TensorflowProjects/lib/python3.7/site-packages/tensorflow/python/ops/losses/losses_impl.py:121: add_dispatch_support.<locals>.wrapper (from tensorflow.python.ops.array_ops) is deprecated and will be removed in a future version.\n",
      "Instructions for updating:\n",
      "Use tf.where in 2.0, which has the same broadcast rule as np.where\n"
     ]
    },
    {
     "name": "stdout",
     "output_type": "stream",
     "text": [
      "actor_loss called\n",
      "train_fn\n",
      "critic_loss called\n",
      "actor_loss called\n",
      "train_fn\n",
      "step = 200: loss = 2.6481757164001465\n",
      "step = 400: loss = 0.7019731998443604\n",
      "step = 600: loss = 1.7004753351211548\n",
      "step = 800: loss = 13.971896171569824\n",
      "step = 1000: loss = 12.609968185424805\n",
      "step = 1000: Average Return = -1506.5166015625\n",
      "step = 1200: loss = 23.629701614379883\n",
      "step = 1400: loss = 1.3743500709533691\n",
      "step = 1600: loss = 1.438065767288208\n",
      "step = 1800: loss = 36.47745132446289\n",
      "step = 2000: loss = 2.0533456802368164\n",
      "step = 2000: Average Return = -1415.6011962890625\n",
      "step = 2200: loss = 26.177860260009766\n",
      "step = 2400: loss = 2.414354085922241\n",
      "step = 2600: loss = 1.46134614944458\n",
      "step = 2800: loss = 36.40760803222656\n",
      "step = 3000: loss = 2.9206013679504395\n",
      "step = 3000: Average Return = -1033.634033203125\n",
      "step = 3200: loss = 5.052252769470215\n",
      "step = 3400: loss = 9.354452133178711\n",
      "step = 3600: loss = 5.253024101257324\n",
      "step = 3800: loss = 7.857862949371338\n",
      "step = 4000: loss = 52.32920455932617\n",
      "step = 4000: Average Return = -717.3474731445312\n",
      "step = 4200: loss = 4.837541580200195\n",
      "step = 4400: loss = 3.7698862552642822\n",
      "step = 4600: loss = 4.13300085067749\n",
      "step = 4800: loss = 5.324780464172363\n",
      "step = 5000: loss = 6.2051310539245605\n",
      "step = 5000: Average Return = -203.96359252929688\n",
      "step = 5200: loss = 8.405284881591797\n",
      "step = 5400: loss = 13.622739791870117\n",
      "step = 5600: loss = 5.8981170654296875\n",
      "step = 5800: loss = 8.295160293579102\n",
      "step = 6000: loss = 9.389439582824707\n",
      "step = 6000: Average Return = -151.31332397460938\n",
      "step = 6200: loss = 6.429388046264648\n",
      "step = 6400: loss = 311.019287109375\n",
      "step = 6600: loss = 5.835868835449219\n",
      "step = 6800: loss = 6.295276641845703\n",
      "step = 7000: loss = 142.33660888671875\n",
      "step = 7000: Average Return = -145.55313110351562\n",
      "step = 7200: loss = 10.579689979553223\n",
      "step = 7400: loss = 16.975685119628906\n",
      "step = 7600: loss = 9.731435775756836\n",
      "step = 7800: loss = 10.723188400268555\n",
      "step = 8000: loss = 432.0963439941406\n",
      "step = 8000: Average Return = -155.52041625976562\n",
      "step = 8200: loss = 7.1177568435668945\n",
      "step = 8400: loss = 297.81329345703125\n",
      "step = 8600: loss = 187.3302459716797\n",
      "step = 8800: loss = 5.615907669067383\n",
      "step = 9000: loss = 32.79109191894531\n",
      "step = 9000: Average Return = -428.7308044433594\n",
      "step = 9200: loss = 56.9147834777832\n",
      "step = 9400: loss = 6.068238258361816\n",
      "step = 9600: loss = 5.793302536010742\n",
      "step = 9800: loss = 41.004669189453125\n",
      "step = 10000: loss = 10.980212211608887\n",
      "step = 10000: Average Return = -148.27235412597656\n",
      "step = 10200: loss = 14.273038864135742\n",
      "step = 10400: loss = 6.965243339538574\n",
      "step = 10600: loss = 28.879615783691406\n",
      "step = 10800: loss = 94.02131652832031\n",
      "step = 11000: loss = 10.549448013305664\n",
      "step = 11000: Average Return = -379.5303955078125\n",
      "step = 11200: loss = 6.619421482086182\n",
      "step = 11400: loss = 12.09881591796875\n",
      "step = 11600: loss = 42.1708869934082\n",
      "step = 11800: loss = 6.641890048980713\n",
      "step = 12000: loss = 7.435050010681152\n",
      "step = 12000: Average Return = -352.7833557128906\n",
      "step = 12200: loss = 5.706599235534668\n",
      "step = 12400: loss = 11.325995445251465\n",
      "step = 12600: loss = 8.706175804138184\n",
      "step = 12800: loss = 11.21383285522461\n",
      "step = 13000: loss = 14.72268009185791\n",
      "step = 13000: Average Return = -152.2471923828125\n",
      "step = 13200: loss = 5.486726760864258\n",
      "step = 13400: loss = 656.3172607421875\n",
      "step = 13600: loss = 25.25277328491211\n",
      "step = 13800: loss = 290.2525329589844\n",
      "step = 14000: loss = 12.123586654663086\n",
      "step = 14000: Average Return = -131.83673095703125\n",
      "step = 14200: loss = 8.13775634765625\n",
      "step = 14400: loss = 631.8497314453125\n",
      "step = 14600: loss = 6.767054080963135\n",
      "step = 14800: loss = 5.8026323318481445\n",
      "step = 15000: loss = 11.770851135253906\n",
      "step = 15000: Average Return = -121.0240707397461\n",
      "step = 15200: loss = 188.24412536621094\n",
      "step = 15400: loss = 8.726455688476562\n",
      "step = 15600: loss = 6.585364818572998\n",
      "step = 15800: loss = 9.079544067382812\n",
      "step = 16000: loss = 10.734682083129883\n",
      "step = 16000: Average Return = -143.87950134277344\n",
      "step = 16200: loss = 163.80960083007812\n",
      "step = 16400: loss = 8.692659378051758\n",
      "step = 16600: loss = 11.073291778564453\n",
      "step = 16800: loss = 10.0643310546875\n",
      "step = 17000: loss = 12.210718154907227\n",
      "step = 17000: Average Return = -152.00469970703125\n",
      "step = 17200: loss = 4.7950286865234375\n",
      "step = 17400: loss = 7.6589860916137695\n",
      "step = 17600: loss = 390.847412109375\n",
      "step = 17800: loss = 11.219095230102539\n",
      "step = 18000: loss = 7.273919105529785\n",
      "step = 18000: Average Return = -87.76188659667969\n",
      "step = 18200: loss = 10.350824356079102\n",
      "step = 18400: loss = 9.848466873168945\n",
      "step = 18600: loss = 6.087961196899414\n",
      "step = 18800: loss = 8.156744003295898\n",
      "step = 19000: loss = 10.518939018249512\n",
      "step = 19000: Average Return = -146.29971313476562\n",
      "step = 19200: loss = 4.788852691650391\n",
      "step = 19400: loss = 9.40228271484375\n",
      "step = 19600: loss = 7.231487274169922\n",
      "step = 19800: loss = 4.328359603881836\n",
      "step = 20000: loss = 168.1819610595703\n",
      "step = 20000: Average Return = -165.49569702148438\n"
     ]
    }
   ],
   "source": [
    "# (Optional) Optimize by wrapping some of the code in a graph using TF function.\n",
    "tf_agent.train = common.function(tf_agent.train)\n",
    "collect_driver.run = common.function(collect_driver.run)\n",
    "\n",
    "# Reset the train step\n",
    "tf_agent.train_step_counter.assign(0)\n",
    "\n",
    "# Evaluate the agent's policy once before training.\n",
    "avg_return = compute_avg_return(eval_env, eval_policy, num_eval_episodes)\n",
    "returns = [avg_return]\n",
    "\n",
    "for _ in range(num_iterations):\n",
    "\n",
    "    # Collect a few steps using collect_policy and save to the replay buffer.\n",
    "    for _ in range(collect_steps_per_iteration):\n",
    "        collect_driver.run()\n",
    "\n",
    "    # Sample a batch of data from the buffer and update the agent's network.\n",
    "    experience, unused_info = next(iterator)\n",
    "    train_loss = tf_agent.train(experience)\n",
    "\n",
    "    step = tf_agent.train_step_counter.numpy()\n",
    "\n",
    "    if step % log_interval == 0:\n",
    "        print('step = {0}: loss = {1}'.format(step, train_loss.loss))\n",
    "\n",
    "    if step % eval_interval == 0:\n",
    "        avg_return = compute_avg_return(eval_env, eval_policy, num_eval_episodes)\n",
    "        print('step = {0}: Average Return = {1}'.format(step, avg_return))\n",
    "        returns.append(avg_return)"
   ]
  },
  {
   "cell_type": "code",
   "execution_count": 15,
   "metadata": {},
   "outputs": [
    {
     "data": {
      "text/plain": [
       "(-1577.454337310791, 0)"
      ]
     },
     "execution_count": 15,
     "metadata": {},
     "output_type": "execute_result"
    },
    {
     "data": {
      "image/png": "[encoded data removed]",
      "text/plain": [
       "<Figure size 432x288 with 1 Axes>"
      ]
     },
     "metadata": {
      "needs_background": "light"
     },
     "output_type": "display_data"
    }
   ],
   "source": [
    "steps = range(0, num_iterations + 1, eval_interval)\n",
    "plt.plot(steps, returns)\n",
    "plt.ylabel('Average Return')\n",
    "plt.xlabel('Step')\n",
    "plt.ylim(top=0)"
   ]
  },
  {
   "cell_type": "code",
   "execution_count": 51,
   "metadata": {},
   "outputs": [
    {
     "name": "stdout",
     "output_type": "stream",
     "text": [
      "tf.Tensor([[1.992277]], shape=(1, 1), dtype=float32)\n"
     ]
    }
   ],
   "source": [
    "time_step = eval_env.reset()\n",
    "while not time_step.is_last():\n",
    "    action_step = tf_agent.policy.action(time_step)\n",
    "    time_step = eval_env.step(action_step.action)\n",
    "    eval_py_env.render()"
   ]
  },
  {
   "cell_type": "code",
   "execution_count": 17,
   "metadata": {},
   "outputs": [],
   "source": [
    "def _experience_to_transitions(experience):\n",
    "    transitions = trajectory.to_transition(experience)\n",
    "\n",
    "    transitions = tf.nest.map_structure(lambda x: tf.squeeze(x, [1]),\n",
    "                                          transitions)\n",
    "\n",
    "    time_steps, policy_steps, next_time_steps = transitions\n",
    "    actions = policy_steps.action\n",
    "    return time_steps, actions, next_time_steps"
   ]
  },
  {
   "cell_type": "code",
   "execution_count": 18,
   "metadata": {},
   "outputs": [],
   "source": [
    "experience, unused_info = next(iterator)\n",
    "time_steps, actions, next_time_steps = _experience_to_transitions(experience)"
   ]
  },
  {
   "cell_type": "code",
   "execution_count": 19,
   "metadata": {},
   "outputs": [
    {
     "name": "stdout",
     "output_type": "stream",
     "text": [
      "4.1898236\n"
     ]
    }
   ],
   "source": [
    "# CRITIC LOSS\n",
    "\n",
    "\n",
    "# 1) Find td_targets by:\n",
    "# a) Get target_actions by running next observations through target actor.\n",
    "# b) Use target_q by running target_actions and next observations through target critic.\n",
    "# c) td_target then is reward + gamma * target_q\n",
    "target_actions, _ = tf_agent._target_actor_network(next_time_steps.observation, next_time_steps.step_type)\n",
    "\n",
    "target_critic_net_input = (next_time_steps.observation, target_actions)\n",
    "      \n",
    "target_q_values, _ = tf_agent._target_critic_network(target_critic_net_input, next_time_steps.step_type)\n",
    "\n",
    "td_targets = tf.stop_gradient(\n",
    "    reward_scale_factor * next_time_steps.reward +\n",
    "    gamma * next_time_steps.discount * target_q_values)\n",
    "\n",
    "# 2) Find current critic Q predictions by running observations and actions\n",
    "critic_net_input = (time_steps.observation, actions)\n",
    "\n",
    "q_values, _ = tf_agent._critic_network(critic_net_input, time_steps.step_type)\n",
    "\n",
    "# 3) Loss is between td_targets and q_values\n",
    "critic_loss = tf_agent._td_errors_loss_fn(td_targets, q_values)\n",
    "      \n",
    "critic_loss = tf.reduce_mean(critic_loss)\n",
    "\n",
    "print(critic_loss.numpy())"
   ]
  },
  {
   "cell_type": "code",
   "execution_count": 43,
   "metadata": {},
   "outputs": [
    {
     "name": "stdout",
     "output_type": "stream",
     "text": [
      "dqda=(64, 1); action=(64, 1)\n",
      "6.4844923\n"
     ]
    }
   ],
   "source": [
    "# ACTOR LOSS\n",
    "\n",
    "# 1) predict actions from observations using actor network\n",
    "actions, _ = tf_agent._actor_network(time_steps.observation, time_steps.step_type)\n",
    "\n",
    "# 2) run those actions through the critic network to find q\n",
    "with tf.GradientTape(watch_accessed_variables=False) as tape:\n",
    "    tape.watch(actions)\n",
    "    q_values, _ = tf_agent._critic_network((time_steps.observation, actions), time_steps.step_type)\n",
    "    actions = tf.nest.flatten(actions)\n",
    "    \n",
    "# 3) compute the gradient of q with respect to the actions.\n",
    "dqdas = tape.gradient([q_values], actions)\n",
    "\n",
    "actor_losses = []\n",
    "\n",
    "# 4) loss is between the gradient of the action and the action.\n",
    "for dqda, action in zip(dqdas, actions):\n",
    "    print(\"dqda={}; action={}\".format(dqda.shape, action.shape))\n",
    "    loss = common.element_wise_squared_loss(tf.stop_gradient(dqda + action), action)\n",
    "            \n",
    "    loss = tf.reduce_mean(loss)\n",
    "    \n",
    "    actor_losses.append(loss)\n",
    "    \n",
    "actor_loss = tf.add_n(actor_losses)\n",
    "\n",
    "print(actor_loss.numpy())"
   ]
  },
  {
   "cell_type": "code",
   "execution_count": null,
   "metadata": {},
   "outputs": [],
   "source": []
  }
 ],
 "metadata": {
  "kernelspec": {
   "display_name": "Python 3",
   "language": "python",
   "name": "python3"
  },
  "language_info": {
   "codemirror_mode": {
    "name": "ipython",
    "version": 3
   },
   "file_extension": ".py",
   "mimetype": "text/x-python",
   "name": "python",
   "nbconvert_exporter": "python",
   "pygments_lexer": "ipython3",
   "version": "3.7.3"
  }
 },
 "nbformat": 4,
 "nbformat_minor": 2
}
