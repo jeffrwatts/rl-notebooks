{
 "cells": [
  {
   "cell_type": "code",
   "execution_count": 1,
   "metadata": {},
   "outputs": [],
   "source": [
    "from __future__ import absolute_import\n",
    "from __future__ import division\n",
    "from __future__ import print_function\n",
    "\n",
    "import base64\n",
    "import imageio\n",
    "import IPython\n",
    "import matplotlib\n",
    "import matplotlib.pyplot as plt\n",
    "import PIL.Image\n",
    "import pyvirtualdisplay\n",
    "\n",
    "import tensorflow as tf\n",
    "\n",
    "import dqn_agent\n",
    "#from tf_agents.agents.dqn import dqn_agent\n",
    "from tf_agents.drivers import dynamic_step_driver\n",
    "from tf_agents.environments import suite_gym\n",
    "from tf_agents.environments import tf_py_environment\n",
    "from tf_agents.eval import metric_utils\n",
    "from tf_agents.metrics import tf_metrics\n",
    "from tf_agents.networks import q_network\n",
    "from tf_agents.policies import random_tf_policy\n",
    "from tf_agents.replay_buffers import tf_uniform_replay_buffer\n",
    "from tf_agents.trajectories import trajectory\n",
    "from tf_agents.utils import common\n",
    "\n",
    "tf.compat.v1.enable_v2_behavior()"
   ]
  },
  {
   "cell_type": "code",
   "execution_count": 2,
   "metadata": {},
   "outputs": [],
   "source": [
    "env_name = 'CartPole-v0'  # @param\n",
    "num_iterations = 20000  # @param\n",
    "\n",
    "initial_collect_steps = 1000  # @param\n",
    "collect_steps_per_iteration = 1  # @param\n",
    "replay_buffer_capacity = 100000  # @param\n",
    "\n",
    "fc_layer_params = (100,)\n",
    "\n",
    "batch_size = 64  # @param\n",
    "learning_rate = 1e-3  # @param\n",
    "log_interval = 200  # @param\n",
    "\n",
    "num_eval_episodes = 10  # @param\n",
    "eval_interval = 1000  # @param"
   ]
  },
  {
   "cell_type": "code",
   "execution_count": 3,
   "metadata": {},
   "outputs": [],
   "source": [
    "env = suite_gym.load(env_name)"
   ]
  },
  {
   "cell_type": "code",
   "execution_count": 4,
   "metadata": {},
   "outputs": [
    {
     "name": "stdout",
     "output_type": "stream",
     "text": [
      "Observation Spec:\n",
      "BoundedArraySpec(shape=(4,), dtype=dtype('float32'), name=None, minimum=[-4.8000002e+00 -3.4028235e+38 -4.1887903e-01 -3.4028235e+38], maximum=[4.8000002e+00 3.4028235e+38 4.1887903e-01 3.4028235e+38])\n",
      "Action Spec:\n",
      "BoundedArraySpec(shape=(), dtype=dtype('int64'), name=None, minimum=0, maximum=1)\n"
     ]
    }
   ],
   "source": [
    "print('Observation Spec:')\n",
    "print(env.time_step_spec().observation)\n",
    "print('Action Spec:')\n",
    "print(env.action_spec())"
   ]
  },
  {
   "cell_type": "code",
   "execution_count": 5,
   "metadata": {},
   "outputs": [],
   "source": [
    "train_py_env = suite_gym.load(env_name)\n",
    "eval_py_env = suite_gym.load(env_name)\n",
    "\n",
    "train_env = tf_py_environment.TFPyEnvironment(train_py_env)\n",
    "eval_env = tf_py_environment.TFPyEnvironment(eval_py_env)"
   ]
  },
  {
   "cell_type": "code",
   "execution_count": 6,
   "metadata": {},
   "outputs": [],
   "source": [
    "q_net = q_network.QNetwork(\n",
    "    train_env.observation_spec(),\n",
    "    train_env.action_spec(),\n",
    "    fc_layer_params=fc_layer_params)"
   ]
  },
  {
   "cell_type": "code",
   "execution_count": 7,
   "metadata": {},
   "outputs": [
    {
     "name": "stdout",
     "output_type": "stream",
     "text": [
      "collect policy is e-greedy\n"
     ]
    }
   ],
   "source": [
    "optimizer = tf.compat.v1.train.AdamOptimizer(learning_rate=learning_rate)\n",
    "\n",
    "train_step_counter = tf.compat.v2.Variable(0)\n",
    "\n",
    "tf_agent = dqn_agent.DqnAgent(\n",
    "    train_env.time_step_spec(),\n",
    "    train_env.action_spec(),\n",
    "    q_network=q_net,\n",
    "    optimizer=optimizer,\n",
    "    td_errors_loss_fn=dqn_agent.element_wise_squared_loss,\n",
    "    train_step_counter=train_step_counter)\n",
    "tf_agent.initialize()"
   ]
  },
  {
   "cell_type": "code",
   "execution_count": 8,
   "metadata": {},
   "outputs": [],
   "source": [
    "eval_policy = tf_agent.policy\n",
    "collect_policy = tf_agent.collect_policy"
   ]
  },
  {
   "cell_type": "code",
   "execution_count": 9,
   "metadata": {},
   "outputs": [],
   "source": [
    "random_policy = random_tf_policy.RandomTFPolicy(train_env.time_step_spec(),\n",
    "                                                train_env.action_spec())"
   ]
  },
  {
   "cell_type": "code",
   "execution_count": 10,
   "metadata": {},
   "outputs": [],
   "source": [
    "def compute_avg_return(environment, policy, num_episodes=10):\n",
    "\n",
    "    total_return = 0.0\n",
    "    for _ in range(num_episodes):\n",
    "\n",
    "        time_step = environment.reset()\n",
    "        episode_return = 0.0\n",
    "\n",
    "        while not time_step.is_last():\n",
    "            action_step = policy.action(time_step)\n",
    "            time_step = environment.step(action_step.action)\n",
    "            episode_return += time_step.reward\n",
    "        total_return += episode_return\n",
    "\n",
    "    avg_return = total_return / num_episodes\n",
    "    return avg_return.numpy()[0]"
   ]
  },
  {
   "cell_type": "code",
   "execution_count": 11,
   "metadata": {},
   "outputs": [],
   "source": [
    "replay_buffer = tf_uniform_replay_buffer.TFUniformReplayBuffer(\n",
    "    data_spec=tf_agent.collect_data_spec,\n",
    "    batch_size=train_env.batch_size,\n",
    "    max_length=replay_buffer_capacity)"
   ]
  },
  {
   "cell_type": "code",
   "execution_count": 12,
   "metadata": {},
   "outputs": [],
   "source": [
    "def collect_step(environment, policy):\n",
    "    time_step = environment.current_time_step()\n",
    "    action_step = policy.action(time_step)\n",
    "    next_time_step = environment.step(action_step.action)\n",
    "    traj = trajectory.from_transition(time_step, action_step, next_time_step)\n",
    "\n",
    "    # Add trajectory to the replay buffer\n",
    "    replay_buffer.add_batch(traj)\n",
    "\n",
    "for _ in range(initial_collect_steps):\n",
    "    collect_step(train_env, random_policy)"
   ]
  },
  {
   "cell_type": "code",
   "execution_count": 13,
   "metadata": {},
   "outputs": [],
   "source": [
    "# Dataset generates trajectories with shape [Bx2x...]\n",
    "dataset = replay_buffer.as_dataset(\n",
    "    num_parallel_calls=3, sample_batch_size=batch_size, num_steps=2).prefetch(3)\n",
    "\n",
    "iterator = iter(dataset)"
   ]
  },
  {
   "cell_type": "code",
   "execution_count": 14,
   "metadata": {},
   "outputs": [
    {
     "name": "stderr",
     "output_type": "stream",
     "text": [
      "WARNING: Logging before flag parsing goes to stderr.\n",
      "W0708 09:04:39.997025 4561159616 deprecation.py:323] From /Users/jwatts/TensorflowProjects/lib/python3.7/site-packages/tf_agents/policies/epsilon_greedy_policy.py:96: add_dispatch_support.<locals>.wrapper (from tensorflow.python.ops.array_ops) is deprecated and will be removed in a future version.\n",
      "Instructions for updating:\n",
      "Use tf.where in 2.0, which has the same broadcast rule as np.where\n"
     ]
    },
    {
     "name": "stdout",
     "output_type": "stream",
     "text": [
      "td_errors_loss_fn=<function element_wise_squared_loss at 0x141512ea0>\n",
      "_n_step_update=1\n",
      "no state spec, map structure\n",
      "multi_dim_actions=False\n",
      "reward_scale_factor=1.0; gamma=1.0\n",
      "td_errors_loss_fn=<function element_wise_squared_loss at 0x141512ea0>\n",
      "_n_step_update=1\n",
      "no state spec, map structure\n",
      "multi_dim_actions=False\n",
      "reward_scale_factor=1.0; gamma=1.0\n",
      "step = 200: loss = 12.647035598754883\n",
      "step = 400: loss = 31.06681251525879\n",
      "step = 600: loss = 17.79585838317871\n",
      "step = 800: loss = 29.510196685791016\n",
      "step = 1000: loss = 71.55635833740234\n",
      "step = 1000: Average Return = 44.70000076293945\n",
      "step = 1200: loss = 34.57028579711914\n",
      "step = 1400: loss = 29.073408126831055\n",
      "step = 1600: loss = 57.44021224975586\n",
      "step = 1800: loss = 19.16401481628418\n",
      "step = 2000: loss = 67.837646484375\n",
      "step = 2000: Average Return = 26.600000381469727\n",
      "step = 2200: loss = 21.267086029052734\n",
      "step = 2400: loss = 60.337196350097656\n",
      "step = 2600: loss = 55.717159271240234\n",
      "step = 2800: loss = 18.117290496826172\n",
      "step = 3000: loss = 51.93886184692383\n",
      "step = 3000: Average Return = 54.900001525878906\n",
      "step = 3200: loss = 18.545806884765625\n",
      "step = 3400: loss = 8.119680404663086\n",
      "step = 3600: loss = 12.565216064453125\n",
      "step = 3800: loss = 7.895153522491455\n",
      "step = 4000: loss = 13.146234512329102\n",
      "step = 4000: Average Return = 31.100000381469727\n",
      "step = 4200: loss = 12.886043548583984\n",
      "step = 4400: loss = 102.09980773925781\n",
      "step = 4600: loss = 23.4152889251709\n",
      "step = 4800: loss = 132.20497131347656\n",
      "step = 5000: loss = 11.407313346862793\n",
      "step = 5000: Average Return = 124.30000305175781\n",
      "step = 5200: loss = 128.555419921875\n",
      "step = 5400: loss = 158.9695281982422\n",
      "step = 5600: loss = 4.897219181060791\n",
      "step = 5800: loss = 6.436513900756836\n",
      "step = 6000: loss = 43.385074615478516\n",
      "step = 6000: Average Return = 163.8000030517578\n",
      "step = 6200: loss = 6.712560653686523\n",
      "step = 6400: loss = 44.70085144042969\n",
      "step = 6600: loss = 22.090898513793945\n",
      "step = 6800: loss = 26.361257553100586\n",
      "step = 7000: loss = 161.6080322265625\n",
      "step = 7000: Average Return = 155.0\n",
      "step = 7200: loss = 11.085664749145508\n",
      "step = 7400: loss = 34.85843276977539\n",
      "step = 7600: loss = 125.97148895263672\n",
      "step = 7800: loss = 146.18902587890625\n",
      "step = 8000: loss = 5.495702743530273\n",
      "step = 8000: Average Return = 147.39999389648438\n",
      "step = 8200: loss = 25.457468032836914\n",
      "step = 8400: loss = 261.4249267578125\n",
      "step = 8600: loss = 197.98165893554688\n",
      "step = 8800: loss = 242.55661010742188\n",
      "step = 9000: loss = 11.288138389587402\n",
      "step = 9000: Average Return = 125.69999694824219\n",
      "step = 9200: loss = 12.017148971557617\n",
      "step = 9400: loss = 37.672027587890625\n",
      "step = 9600: loss = 122.1511459350586\n",
      "step = 9800: loss = 43.30611801147461\n",
      "step = 10000: loss = 250.2428741455078\n",
      "step = 10000: Average Return = 166.10000610351562\n",
      "step = 10200: loss = 205.5945281982422\n",
      "step = 10400: loss = 81.44689178466797\n",
      "step = 10600: loss = 9.910019874572754\n",
      "step = 10800: loss = 42.14085388183594\n",
      "step = 11000: loss = 5.356292724609375\n",
      "step = 11000: Average Return = 184.5\n",
      "step = 11200: loss = 62.09098434448242\n",
      "step = 11400: loss = 289.0035095214844\n",
      "step = 11600: loss = 277.79595947265625\n",
      "step = 11800: loss = 16.756237030029297\n",
      "step = 12000: loss = 392.76324462890625\n",
      "step = 12000: Average Return = 197.6999969482422\n",
      "step = 12200: loss = 137.08926391601562\n",
      "step = 12400: loss = 12.889716148376465\n",
      "step = 12600: loss = 8.651581764221191\n",
      "step = 12800: loss = 60.036991119384766\n",
      "step = 13000: loss = 14.287984848022461\n",
      "step = 13000: Average Return = 176.0\n",
      "step = 13200: loss = 7.969167709350586\n",
      "step = 13400: loss = 21.49718475341797\n",
      "step = 13600: loss = 25.41521453857422\n",
      "step = 13800: loss = 681.6915283203125\n",
      "step = 14000: loss = 163.87078857421875\n",
      "step = 14000: Average Return = 200.0\n",
      "step = 14200: loss = 12.524378776550293\n",
      "step = 14400: loss = 67.6680908203125\n",
      "step = 14600: loss = 383.69207763671875\n",
      "step = 14800: loss = 7.6310906410217285\n",
      "step = 15000: loss = 595.8534545898438\n",
      "step = 15000: Average Return = 199.10000610351562\n",
      "step = 15200: loss = 8.978577613830566\n",
      "step = 15400: loss = 16.664813995361328\n",
      "step = 15600: loss = 208.9370880126953\n",
      "step = 15800: loss = 79.09851837158203\n",
      "step = 16000: loss = 84.433349609375\n",
      "step = 16000: Average Return = 198.8000030517578\n",
      "step = 16200: loss = 126.70572662353516\n",
      "step = 16400: loss = 15.677742004394531\n",
      "step = 16600: loss = 498.68182373046875\n",
      "step = 16800: loss = 16.367473602294922\n",
      "step = 17000: loss = 101.64053344726562\n",
      "step = 17000: Average Return = 200.0\n",
      "step = 17200: loss = 19.692203521728516\n",
      "step = 17400: loss = 555.4901733398438\n",
      "step = 17600: loss = 10.10008430480957\n",
      "step = 17800: loss = 394.9402770996094\n",
      "step = 18000: loss = 193.22096252441406\n",
      "step = 18000: Average Return = 200.0\n",
      "step = 18200: loss = 33.82866668701172\n",
      "step = 18400: loss = 11.78503704071045\n",
      "step = 18600: loss = 28.143360137939453\n",
      "step = 18800: loss = 18.180519104003906\n",
      "step = 19000: loss = 157.24539184570312\n",
      "step = 19000: Average Return = 200.0\n",
      "step = 19200: loss = 101.61576080322266\n",
      "step = 19400: loss = 851.7750854492188\n",
      "step = 19600: loss = 258.4828186035156\n",
      "step = 19800: loss = 84.20079040527344\n",
      "step = 20000: loss = 10.83415412902832\n",
      "step = 20000: Average Return = 200.0\n"
     ]
    }
   ],
   "source": [
    "# (Optional) Optimize by wrapping some of the code in a graph using TF function.\n",
    "tf_agent.train = common.function(tf_agent.train)\n",
    "\n",
    "# Reset the train step\n",
    "tf_agent.train_step_counter.assign(0)\n",
    "\n",
    "# Evaluate the agent's policy once before training.\n",
    "avg_return = compute_avg_return(eval_env, tf_agent.policy, num_eval_episodes)\n",
    "returns = [avg_return]\n",
    "\n",
    "for _ in range(num_iterations):\n",
    "\n",
    "    # Collect a few steps using collect_policy and save to the replay buffer.\n",
    "    for _ in range(collect_steps_per_iteration):\n",
    "        collect_step(train_env, tf_agent.collect_policy)\n",
    "\n",
    "    # Sample a batch of data from the buffer and update the agent's network.\n",
    "    experience, unused_info = next(iterator)\n",
    "    train_loss = tf_agent.train(experience)\n",
    "\n",
    "    step = tf_agent.train_step_counter.numpy()\n",
    "\n",
    "    if step % log_interval == 0:\n",
    "        print('step = {0}: loss = {1}'.format(step, train_loss.loss))\n",
    "\n",
    "    if step % eval_interval == 0:\n",
    "        avg_return = compute_avg_return(eval_env, tf_agent.policy, num_eval_episodes)\n",
    "        print('step = {0}: Average Return = {1}'.format(step, avg_return))\n",
    "        returns.append(avg_return)\n"
   ]
  },
  {
   "cell_type": "code",
   "execution_count": 15,
   "metadata": {},
   "outputs": [
    {
     "data": {
      "text/plain": [
       "(17.930000400543214, 250)"
      ]
     },
     "execution_count": 15,
     "metadata": {},
     "output_type": "execute_result"
    },
    {
     "data": {
      "image/png": "[encoded data removed]",
      "text/plain": [
       "<Figure size 432x288 with 1 Axes>"
      ]
     },
     "metadata": {
      "needs_background": "light"
     },
     "output_type": "display_data"
    }
   ],
   "source": [
    "steps = range(0, num_iterations + 1, eval_interval)\n",
    "plt.plot(steps, returns)\n",
    "plt.ylabel('Average Return')\n",
    "plt.xlabel('Step')\n",
    "plt.ylim(top=250)"
   ]
  },
  {
   "cell_type": "code",
   "execution_count": 16,
   "metadata": {},
   "outputs": [],
   "source": [
    "time_step = eval_env.reset()\n",
    "while not time_step.is_last():\n",
    "    action_step = tf_agent.policy.action(time_step)\n",
    "    time_step = eval_env.step(action_step.action)\n",
    "    eval_py_env.render()"
   ]
  },
  {
   "cell_type": "code",
   "execution_count": 23,
   "metadata": {},
   "outputs": [],
   "source": [
    "def _experience_to_transitions(experience):\n",
    "    transitions = trajectory.to_transition(experience)\n",
    "\n",
    "    transitions = tf.nest.map_structure(lambda x: tf.squeeze(x, [1]), transitions)\n",
    "\n",
    "    time_steps, policy_steps, next_time_steps = transitions\n",
    "    actions = policy_steps.action\n",
    "    return time_steps, actions, next_time_steps\n",
    "\n",
    "def element_wise_squared_loss(x, y):\n",
    "    return tf.compat.v1.losses.mean_squared_error(x, y, reduction=tf.compat.v1.losses.Reduction.NONE)\n",
    "\n",
    "def element_wise_huber_loss(x, y):\n",
    "    return tf.compat.v1.losses.huber_loss(x, y, reduction=tf.compat.v1.losses.Reduction.NONE)\n",
    "\n",
    "def compute_td_targets(next_q_values, rewards, discounts):\n",
    "    return tf.stop_gradient(rewards + discounts * next_q_values)\n",
    "\n",
    "def dqn_compute_next_q_values(self, next_time_steps):\n",
    "    next_target_q_values, _ = self._target_q_network(next_time_steps.observation, next_time_steps.step_type)\n",
    "    return tf.reduce_max(input_tensor=next_target_q_values, axis=-1)\n",
    "\n",
    "def ddqn_compute_next_q_values(self, next_time_steps):\n",
    "    next_q_values, _ = self._q_network(next_time_steps.observation,\n",
    "                                       next_time_steps.step_type)\n",
    "    best_next_actions = tf.cast(\n",
    "        tf.argmax(input=next_q_values, axis=-1), dtype=tf.int32)\n",
    "    \n",
    "    next_target_q_values, _ = self._target_q_network(\n",
    "        next_time_steps.observation, next_time_steps.step_type)\n",
    "    \n",
    "    multi_dim_actions = best_next_actions.shape.ndims > 1\n",
    "    \n",
    "    return common.index_with_actions(\n",
    "        next_target_q_values,\n",
    "        best_next_actions,\n",
    "        multi_dim_actions=multi_dim_actions)\n",
    "\n",
    "def _loss(self,\n",
    "          experience,\n",
    "          td_errors_loss_fn=element_wise_squared_loss,\n",
    "          gamma=1.0,\n",
    "          reward_scale_factor=1.0):\n",
    "    \n",
    "    time_steps, actions, next_time_steps = self._experience_to_transitions(experience)\n",
    "\n",
    "    with tf.name_scope('loss'):\n",
    "        q_values, _ = self._q_network(time_steps.observation,\n",
    "                                      time_steps.step_type)\n",
    "\n",
    "        q_values = common.index_with_actions(q_values,\n",
    "                                             tf.cast(actions, dtype=tf.int32),\n",
    "                                             multi_dim_actions=False)\n",
    "\n",
    "        next_q_values = dqn_compute_next_q_values(self, next_time_steps)\n",
    "\n",
    "        td_targets = compute_td_targets(next_q_values,\n",
    "                                        rewards=reward_scale_factor * next_time_steps.reward,\n",
    "                                        discounts=gamma * next_time_steps.discount)\n",
    "\n",
    "        valid_mask = tf.cast(~time_steps.is_last(), tf.float32)\n",
    "        td_error = valid_mask * (td_targets - q_values)\n",
    "\n",
    "        td_loss = valid_mask * td_errors_loss_fn(td_targets, q_values)\n",
    "\n",
    "        loss = tf.reduce_mean(input_tensor=td_loss)\n",
    "        \n",
    "        return loss, td_loss, td_error\n",
    "    \n",
    "def _train(self, experience):\n",
    "    with tf.GradientTape() as tape:\n",
    "        loss, td_loss, td_error = _loss(self, experience)\n",
    "        \n",
    "    variables_to_train = self._q_network.trainable_weights\n",
    "\n",
    "    grads = tape.gradient(loss, variables_to_train)\n",
    "    # Tuple is used for py3, where zip is a generator producing values once.\n",
    "    grads_and_vars = tuple(zip(grads, variables_to_train))\n",
    "    \n",
    "    self._optimizer.apply_gradients(grads_and_vars,\n",
    "                                    global_step=self.train_step_counter)\n",
    "\n",
    "    self._update_target()\n",
    "\n",
    "    return loss, td_loss, td_error"
   ]
  },
  {
   "cell_type": "code",
   "execution_count": 31,
   "metadata": {},
   "outputs": [
    {
     "name": "stdout",
     "output_type": "stream",
     "text": [
      "no state spec, map structure\n"
     ]
    }
   ],
   "source": [
    "experience, unused_info = next(iterator)\n",
    "\n",
    "loss, td_loss, td_error = _train(tf_agent, experience)"
   ]
  },
  {
   "cell_type": "code",
   "execution_count": 32,
   "metadata": {},
   "outputs": [
    {
     "name": "stdout",
     "output_type": "stream",
     "text": [
      "tf.Tensor(35.04481, shape=(), dtype=float32)\n",
      "tf.Tensor(\n",
      "[3.78888935e-01 1.33157730e+01 2.27957654e+00 1.62405348e+00\n",
      " 2.17294312e+00 1.19236507e-01 4.52400742e+01 1.64778814e-01\n",
      " 1.23210136e+02 1.70909882e+01 2.32551336e+00 1.07562757e+00\n",
      " 3.55849862e+00 6.36713207e-01 2.63366795e+01 4.16435577e+02\n",
      " 2.92448831e+00 4.71523970e-01 4.45435667e+00 4.02125816e+01\n",
      " 6.46726532e+01 7.21317649e-01 3.49790907e+00 2.71748657e+01\n",
      " 2.85208679e+02 1.63425887e+00 5.28759289e+00 1.09741735e+00\n",
      " 2.94753761e+01 2.32595444e+01 2.98623681e+00 1.94531322e+00\n",
      " 3.25009232e+01 3.49029907e+02 4.14260626e+00 1.89885883e+01\n",
      " 2.92070836e-01 3.74208999e+00 4.57901993e+01 4.08018708e-01\n",
      " 1.22401869e+00 6.40908539e-01 3.20336580e+00 1.54813245e-01\n",
      " 7.37054825e+01 5.41661406e+00 4.30896915e-02 1.51563084e+00\n",
      " 1.49667978e+00 3.71509018e+01 1.22739375e-01 6.88067436e-01\n",
      " 3.94295692e-01 5.94698524e+01 9.09104943e-02 2.00414968e+00\n",
      " 3.34235573e+01 1.12032270e+01 4.58005476e+00 2.32201163e-03\n",
      " 3.40268951e+02 2.18348242e-02 5.42197075e+01 5.94311714e+00], shape=(64,), dtype=float32)\n",
      "tf.Tensor(\n",
      "[-0.61553955 -3.6490784   1.5098267  -1.2743835  -1.4740906  -0.3453064\n",
      "  6.726074   -0.40592957 11.100006    4.1341248   1.5249634   1.0371246\n",
      "  1.8863983   0.7979431   5.1319275  20.406754    1.7101135   0.686676\n",
      " -2.1105347  -6.341339    8.041931    0.8493042   1.8702698  -5.2129517\n",
      " 16.888123    1.2783813  -2.2994766   1.0475769  -5.429123    4.822815\n",
      " -1.7280731  -1.3947449  -5.7009583  18.682343    2.0353394  -4.3575897\n",
      " -0.5404358   1.9344482   6.7668457   0.6387634   1.1063538   0.8005676\n",
      "  1.7897949   0.39346313  8.58519     2.327362    0.20758057  1.2311096\n",
      " -1.2233887   6.095154    0.3503418  -0.8294983   0.6279297  -7.71167\n",
      " -0.30151367 -1.4156799   5.781311   -3.3471222   2.1401062   0.04818726\n",
      " 18.44638     0.14776611 -7.3634033   2.437851  ], shape=(64,), dtype=float32)\n"
     ]
    }
   ],
   "source": [
    "print(loss)\n",
    "print(td_loss)\n",
    "print(td_error)"
   ]
  },
  {
   "cell_type": "code",
   "execution_count": null,
   "metadata": {},
   "outputs": [],
   "source": []
  }
 ],
 "metadata": {
  "kernelspec": {
   "display_name": "Python 3",
   "language": "python",
   "name": "python3"
  },
  "language_info": {
   "codemirror_mode": {
    "name": "ipython",
    "version": 3
   },
   "file_extension": ".py",
   "mimetype": "text/x-python",
   "name": "python",
   "nbconvert_exporter": "python",
   "pygments_lexer": "ipython3",
   "version": "3.7.3"
  }
 },
 "nbformat": 4,
 "nbformat_minor": 2
}
