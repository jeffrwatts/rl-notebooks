{
 "cells": [
  {
   "cell_type": "code",
   "execution_count": 1,
   "metadata": {},
   "outputs": [],
   "source": [
    "from __future__ import absolute_import\n",
    "from __future__ import division\n",
    "from __future__ import print_function\n",
    "\n",
    "import math\n",
    "import matplotlib\n",
    "import matplotlib.pyplot as plt\n",
    "\n",
    "import tensorflow as tf\n",
    "\n",
    "from tf_agents.agents.dqn import dqn_agent\n",
    "from tf_agents.drivers import dynamic_step_driver\n",
    "from tf_agents.environments import suite_gym\n",
    "from tf_agents.environments import tf_py_environment\n",
    "from tf_agents.eval import metric_utils\n",
    "from tf_agents.metrics import tf_metrics\n",
    "from tf_agents.networks import q_network\n",
    "from tf_agents.policies import random_tf_policy\n",
    "from tf_agents.replay_buffers import tf_uniform_replay_buffer\n",
    "from tf_agents.trajectories import trajectory\n",
    "from tf_agents.utils import common\n",
    "\n",
    "tf.compat.v1.enable_v2_behavior()"
   ]
  },
  {
   "cell_type": "code",
   "execution_count": 2,
   "metadata": {},
   "outputs": [],
   "source": [
    "env_name = 'MountainCar-v0'  # @param\n",
    "num_iterations = 20000  # @param\n",
    "\n",
    "initial_collect_steps = 1000  # @param\n",
    "collect_steps_per_iteration = 1  # @param\n",
    "replay_buffer_capacity = 100000  # @param\n",
    "\n",
    "fc_layer_params = (256,)\n",
    "\n",
    "batch_size = 64  # @param\n",
    "learning_rate = 0.005 # @param\n",
    "log_interval = 200  # @param\n",
    "gamma = 1.0\n",
    "\n",
    "num_eval_episodes = 10  # @param\n",
    "eval_interval = 1000  # @param"
   ]
  },
  {
   "cell_type": "code",
   "execution_count": 3,
   "metadata": {},
   "outputs": [],
   "source": [
    "env = suite_gym.load(env_name)\n",
    "\n",
    "train_py_env = suite_gym.load(env_name)\n",
    "eval_py_env = suite_gym.load(env_name)\n",
    "\n",
    "train_env = tf_py_environment.TFPyEnvironment(train_py_env)\n",
    "eval_env = tf_py_environment.TFPyEnvironment(eval_py_env)"
   ]
  },
  {
   "cell_type": "code",
   "execution_count": 4,
   "metadata": {},
   "outputs": [],
   "source": [
    "q_net = q_network.QNetwork(\n",
    "    train_env.observation_spec(),\n",
    "    train_env.action_spec(),\n",
    "    fc_layer_params=fc_layer_params)"
   ]
  },
  {
   "cell_type": "code",
   "execution_count": 5,
   "metadata": {},
   "outputs": [],
   "source": [
    "optimizer = tf.compat.v1.train.AdamOptimizer(learning_rate=learning_rate)\n",
    "#optimizer = tf.compat.v1.train.RMSPropOptimizer(learning_rate=learning_rate)\n",
    "\n",
    "train_step_counter = tf.compat.v2.Variable(0)\n",
    "\n",
    "tf_agent = dqn_agent.DdqnAgent(\n",
    "    train_env.time_step_spec(),\n",
    "    train_env.action_spec(),\n",
    "    gamma=gamma,\n",
    "    q_network=q_net,\n",
    "    optimizer=optimizer,\n",
    "    td_errors_loss_fn=dqn_agent.element_wise_squared_loss,\n",
    "    train_step_counter=train_step_counter)\n",
    "tf_agent.initialize()"
   ]
  },
  {
   "cell_type": "code",
   "execution_count": 6,
   "metadata": {},
   "outputs": [],
   "source": [
    "eval_policy = tf_agent.policy\n",
    "#collect_policy = tf_agent.collect_policy\n",
    "random_policy = random_tf_policy.RandomTFPolicy(train_env.time_step_spec(),\n",
    "                                                train_env.action_spec())\n",
    "\n",
    "# Make a epsilon greedy policy to use as collect policy\n",
    "from tf_agents.policies import q_policy\n",
    "from tf_agents.policies import epsilon_greedy_policy\n",
    "\n",
    "MIN_EPSILON = 0.1\n",
    "MAX_EPSILON = 1.0\n",
    "DECAY_RATE = 0.0001\n",
    "\n",
    "def make_epsilon_greedy_policy(train_step_counter):\n",
    "    def e_greedy_decay():\n",
    "        steps = train_step_counter.numpy()\n",
    "        epsilon = MIN_EPSILON + (MAX_EPSILON - MIN_EPSILON) * math.exp(-DECAY_RATE * steps)\n",
    "        return epsilon\n",
    "    return e_greedy_decay\n",
    "\n",
    "policy = q_policy.QPolicy(\n",
    "    train_env.time_step_spec(),\n",
    "    train_env.action_spec(),\n",
    "    q_network=q_net,\n",
    "    emit_log_probability=False)"
   ]
  },
  {
   "cell_type": "code",
   "execution_count": 7,
   "metadata": {},
   "outputs": [],
   "source": [
    "def compute_avg_return(environment, policy, num_episodes=10):\n",
    "\n",
    "    total_return = 0.0\n",
    "    for _ in range(num_episodes):\n",
    "\n",
    "        time_step = environment.reset()\n",
    "        episode_return = 0.0\n",
    "\n",
    "        while not time_step.is_last():\n",
    "            action_step = policy.action(time_step)\n",
    "            time_step = environment.step(action_step.action)\n",
    "            episode_return += time_step.reward\n",
    "        total_return += episode_return\n",
    "\n",
    "    avg_return = total_return / num_episodes\n",
    "    return avg_return.numpy()[0]"
   ]
  },
  {
   "cell_type": "code",
   "execution_count": 8,
   "metadata": {},
   "outputs": [],
   "source": [
    "replay_buffer = tf_uniform_replay_buffer.TFUniformReplayBuffer(\n",
    "    data_spec=tf_agent.collect_data_spec,\n",
    "    batch_size=train_env.batch_size,\n",
    "    max_length=replay_buffer_capacity)"
   ]
  },
  {
   "cell_type": "code",
   "execution_count": 9,
   "metadata": {},
   "outputs": [],
   "source": [
    "def collect_step(environment, policy):\n",
    "    time_step = environment.current_time_step()\n",
    "    action_step = policy.action(time_step)\n",
    "    next_time_step = environment.step(action_step.action)\n",
    "    traj = trajectory.from_transition(time_step, action_step, next_time_step)\n",
    "\n",
    "    # Add trajectory to the replay buffer\n",
    "    replay_buffer.add_batch(traj)\n",
    "\n",
    "\n",
    "for _ in range(initial_collect_steps):\n",
    "    collect_step(train_env, random_policy)\n",
    "    \n",
    "dataset = replay_buffer.as_dataset(\n",
    "    num_parallel_calls=3, sample_batch_size=batch_size, num_steps=2).prefetch(3)\n",
    "\n",
    "iterator = iter(dataset)"
   ]
  },
  {
   "cell_type": "code",
   "execution_count": 10,
   "metadata": {},
   "outputs": [],
   "source": []
  },
  {
   "cell_type": "code",
   "execution_count": 11,
   "metadata": {},
   "outputs": [
    {
     "name": "stderr",
     "output_type": "stream",
     "text": [
      "WARNING: Logging before flag parsing goes to stderr.\n",
      "W0717 22:44:06.591871 4795610560 deprecation.py:323] From /Users/jwatts/TensorflowProjects/lib/python3.7/site-packages/tf_agents/policies/epsilon_greedy_policy.py:96: add_dispatch_support.<locals>.wrapper (from tensorflow.python.ops.array_ops) is deprecated and will be removed in a future version.\n",
      "Instructions for updating:\n",
      "Use tf.where in 2.0, which has the same broadcast rule as np.where\n"
     ]
    },
    {
     "name": "stdout",
     "output_type": "stream",
     "text": [
      "step = 200: loss = 487.0287780761719\n",
      "step = 400: loss = 25.106613159179688\n",
      "step = 600: loss = 11.185754776000977\n",
      "step = 800: loss = 80.68614196777344\n",
      "step = 1000: loss = 8.690300941467285\n",
      "step = 1000: Average Return = 39.400001525878906\n",
      "step = 1200: loss = 286.81671142578125\n",
      "step = 1400: loss = 423.45440673828125\n",
      "step = 1600: loss = 668.1329345703125\n",
      "step = 1800: loss = 500.43560791015625\n",
      "step = 2000: loss = 296.2203063964844\n",
      "step = 2000: Average Return = 134.5\n",
      "step = 2200: loss = 570.9470825195312\n",
      "step = 2400: loss = 528.3712768554688\n",
      "step = 2600: loss = 88.0130844116211\n",
      "step = 2800: loss = 751.0359497070312\n",
      "step = 3000: loss = 789.656494140625\n",
      "step = 3000: Average Return = 283.8999938964844\n",
      "step = 3200: loss = 9606.1201171875\n",
      "step = 3400: loss = 4400.6044921875\n",
      "step = 3600: loss = 498.10943603515625\n",
      "step = 3800: loss = 9328.0068359375\n",
      "step = 4000: loss = 15283.4638671875\n",
      "step = 4000: Average Return = 300.6000061035156\n",
      "step = 4200: loss = 889.177734375\n",
      "step = 4400: loss = 15377.5771484375\n",
      "step = 4600: loss = 9619.884765625\n",
      "step = 4800: loss = 1036.159423828125\n",
      "step = 5000: loss = 1269.709228515625\n",
      "step = 5000: Average Return = 388.29998779296875\n",
      "step = 5200: loss = 2764.74755859375\n",
      "step = 5400: loss = 1555.01953125\n",
      "step = 5600: loss = 40200.89453125\n",
      "step = 5800: loss = 63826.26171875\n",
      "step = 6000: loss = 43708.65625\n",
      "step = 6000: Average Return = 417.79998779296875\n",
      "step = 6200: loss = 3368.46923828125\n",
      "step = 6400: loss = 2984.5791015625\n",
      "step = 6600: loss = 54751.84375\n",
      "step = 6800: loss = 10214.3564453125\n",
      "step = 7000: loss = 4067.703125\n",
      "step = 7000: Average Return = 321.5\n",
      "step = 7200: loss = 1355.9708251953125\n",
      "step = 7400: loss = 1318.9569091796875\n",
      "step = 7600: loss = 2214.960205078125\n",
      "step = 7800: loss = 25254.48828125\n",
      "step = 8000: loss = 4826.67529296875\n",
      "step = 8000: Average Return = 424.1000061035156\n",
      "step = 8200: loss = 2712.88134765625\n",
      "step = 8400: loss = 81266.84375\n",
      "step = 8600: loss = 2411.154052734375\n",
      "step = 8800: loss = 2887.587158203125\n",
      "step = 9000: loss = 68007.859375\n",
      "step = 9000: Average Return = 239.0\n",
      "step = 9200: loss = 3555.04931640625\n",
      "step = 9400: loss = 2696.70263671875\n",
      "step = 9600: loss = 18722.8125\n",
      "step = 9800: loss = 12908.4580078125\n",
      "step = 10000: loss = 88263.453125\n",
      "step = 10000: Average Return = 301.3999938964844\n",
      "step = 10200: loss = 3727.29833984375\n",
      "step = 10400: loss = 4082.601318359375\n",
      "step = 10600: loss = 5172.70263671875\n",
      "step = 10800: loss = 25490.48046875\n",
      "step = 11000: loss = 83315.5390625\n",
      "step = 11000: Average Return = 264.79998779296875\n",
      "step = 11200: loss = 6297.8701171875\n",
      "step = 11400: loss = 3793.741455078125\n",
      "step = 11600: loss = 7483.4921875\n",
      "step = 11800: loss = 138801.578125\n",
      "step = 12000: loss = 4151.31005859375\n",
      "step = 12000: Average Return = 277.79998779296875\n",
      "step = 12200: loss = 36505.75390625\n",
      "step = 12400: loss = 126859.9140625\n",
      "step = 12600: loss = 2445.3896484375\n",
      "step = 12800: loss = 5424.3671875\n",
      "step = 13000: loss = 6866.5927734375\n",
      "step = 13000: Average Return = 329.20001220703125\n",
      "step = 13200: loss = 7054.64013671875\n",
      "step = 13400: loss = 38821.98828125\n",
      "step = 13600: loss = 6383.412109375\n",
      "step = 13800: loss = 3854.90673828125\n",
      "step = 14000: loss = 74707.140625\n",
      "step = 14000: Average Return = 332.8999938964844\n",
      "step = 14200: loss = 5127.4375\n",
      "step = 14400: loss = 3194.5146484375\n",
      "step = 14600: loss = 77002.984375\n",
      "step = 14800: loss = 70583.2265625\n",
      "step = 15000: loss = 7060.2314453125\n",
      "step = 15000: Average Return = 387.3999938964844\n",
      "step = 15200: loss = 4380.71044921875\n",
      "step = 15400: loss = 143897.328125\n",
      "step = 15600: loss = 2283.86865234375\n",
      "step = 15800: loss = 56546.828125\n",
      "step = 16000: loss = 7656.22509765625\n",
      "step = 16000: Average Return = 296.3999938964844\n",
      "step = 16200: loss = 5942.4091796875\n",
      "step = 16400: loss = 4140.9462890625\n",
      "step = 16600: loss = 165811.546875\n",
      "step = 16800: loss = 3578.997802734375\n",
      "step = 17000: loss = 6326.1279296875\n",
      "step = 17000: Average Return = 399.29998779296875\n",
      "step = 17200: loss = 174296.96875\n",
      "step = 17400: loss = 3687.5673828125\n",
      "step = 17600: loss = 2864.72802734375\n",
      "step = 17800: loss = 4365.81982421875\n",
      "step = 18000: loss = 3009.648681640625\n",
      "step = 18000: Average Return = 408.5\n",
      "step = 18200: loss = 3536.577392578125\n",
      "step = 18400: loss = 3166.50048828125\n",
      "step = 18600: loss = 50276.32421875\n",
      "step = 18800: loss = 3407.67919921875\n",
      "step = 19000: loss = 4665.02587890625\n",
      "step = 19000: Average Return = 355.0\n",
      "step = 19200: loss = 4429.7353515625\n",
      "step = 19400: loss = 4010.994873046875\n",
      "step = 19600: loss = 5913.9111328125\n",
      "step = 19800: loss = 122882.5703125\n",
      "step = 20000: loss = 5149.52001953125\n",
      "step = 20000: Average Return = 468.20001220703125\n"
     ]
    }
   ],
   "source": [
    "observations = tf.constant([\n",
    "    [-0.45279628, 0.],\n",
    "    [0.4794603, 0.01519559],\n",
    "    [0.49532581, 0.01586551],\n",
    "    [0.51197954, 0.01665372]\n",
    "])\n",
    "\n",
    "# (Optional) Optimize by wrapping some of the code in a graph using TF function.\n",
    "tf_agent.train = common.function(tf_agent.train)\n",
    "\n",
    "# Reset the train step\n",
    "tf_agent.train_step_counter.assign(0)\n",
    "\n",
    "egreedy_policy = epsilon_greedy_policy.EpsilonGreedyPolicy(\n",
    "          policy, epsilon=make_epsilon_greedy_policy(tf_agent.train_step_counter))\n",
    "\n",
    "# Evaluate the agent's policy once before training.\n",
    "avg_return = compute_avg_return(eval_env, tf_agent.policy, num_eval_episodes)\n",
    "returns = [avg_return]\n",
    "\n",
    "q0 = []\n",
    "q1 = []\n",
    "q2 = []\n",
    "q3 = []\n",
    "\n",
    "for _ in range(num_iterations):\n",
    "\n",
    "    # Collect a few steps using collect_policy and save to the replay buffer.\n",
    "    for _ in range(collect_steps_per_iteration):\n",
    "        collect_step(train_env, egreedy_policy)\n",
    "\n",
    "    # Sample a batch of data from the buffer and update the agent's network.\n",
    "    experience, unused_info = next(iterator)\n",
    "    train_loss = tf_agent.train(experience)\n",
    "\n",
    "    step = tf_agent.train_step_counter.numpy()\n",
    "\n",
    "    if step % log_interval == 0:\n",
    "        print('step = {0}: loss = {1}'.format(step, train_loss.loss))\n",
    "        q_values = tf_agent._q_network(observations)[0].numpy()\n",
    "        q0.append(q_values[0,2])\n",
    "        q1.append(q_values[1,2])\n",
    "        q2.append(q_values[2,2])\n",
    "        q3.append(q_values[3,2])        \n",
    "\n",
    "    if step % eval_interval == 0:\n",
    "        avg_return = compute_avg_return(eval_env, tf_agent.policy, num_eval_episodes)\n",
    "        print('step = {0}: Average Return = {1}'.format(step, avg_return))\n",
    "        returns.append(avg_return)"
   ]
  },
  {
   "cell_type": "code",
   "execution_count": 12,
   "metadata": {},
   "outputs": [
    {
     "data": {
      "text/plain": [
       "[<matplotlib.lines.Line2D at 0x143e46898>]"
      ]
     },
     "execution_count": 12,
     "metadata": {},
     "output_type": "execute_result"
    },
    {
     "data": {
      "image/png": "[encoded data removed]",
      "text/plain": [
       "<Figure size 720x360 with 1 Axes>"
      ]
     },
     "metadata": {
      "needs_background": "light"
     },
     "output_type": "display_data"
    }
   ],
   "source": [
    "fig = plt.figure(figsize=(10,5))\n",
    "plt.plot(q0)\n",
    "plt.plot(q1)\n",
    "plt.plot(q2)\n",
    "plt.plot(q3)"
   ]
  },
  {
   "cell_type": "code",
   "execution_count": 13,
   "metadata": {},
   "outputs": [
    {
     "data": {
      "text/plain": [
       "(17.96000099182129, 550)"
      ]
     },
     "execution_count": 13,
     "metadata": {},
     "output_type": "execute_result"
    },
    {
     "data": {
      "image/png": "[encoded data removed]",
      "text/plain": [
       "<Figure size 432x288 with 1 Axes>"
      ]
     },
     "metadata": {
      "needs_background": "light"
     },
     "output_type": "display_data"
    }
   ],
   "source": [
    "steps = range(0, num_iterations + 1, eval_interval)\n",
    "plt.plot(steps, returns)\n",
    "plt.ylabel('Average Return')\n",
    "plt.xlabel('Step')\n",
    "plt.ylim(top=550)"
   ]
  },
  {
   "cell_type": "code",
   "execution_count": 14,
   "metadata": {},
   "outputs": [],
   "source": [
    "time_step = eval_env.reset()\n",
    "while not time_step.is_last():\n",
    "    action_step = tf_agent.policy.action(time_step)\n",
    "    time_step = eval_env.step(action_step.action)\n",
    "    eval_py_env.render()"
   ]
  },
  {
   "cell_type": "code",
   "execution_count": null,
   "metadata": {},
   "outputs": [],
   "source": []
  }
 ],
 "metadata": {
  "kernelspec": {
   "display_name": "Python 3",
   "language": "python",
   "name": "python3"
  },
  "language_info": {
   "codemirror_mode": {
    "name": "ipython",
    "version": 3
   },
   "file_extension": ".py",
   "mimetype": "text/x-python",
   "name": "python",
   "nbconvert_exporter": "python",
   "pygments_lexer": "ipython3",
   "version": "3.7.5"
  }
 },
 "nbformat": 4,
 "nbformat_minor": 2
}
