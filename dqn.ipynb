{
 "cells": [
  {
   "cell_type": "code",
   "execution_count": 1,
   "metadata": {},
   "outputs": [],
   "source": [
    "%matplotlib inline\n",
    "\n",
    "import gym\n",
    "import itertools\n",
    "import matplotlib\n",
    "from matplotlib import pyplot as plt\n",
    "import random\n",
    "import numpy as np\n",
    "import sys\n",
    "from collections import deque\n",
    "\n",
    "matplotlib.style.use('ggplot')"
   ]
  },
  {
   "cell_type": "code",
   "execution_count": 2,
   "metadata": {},
   "outputs": [
    {
     "name": "stdout",
     "output_type": "stream",
     "text": [
      "2.0.0-beta1\n",
      "2.2.4-tf\n"
     ]
    },
    {
     "name": "stderr",
     "output_type": "stream",
     "text": [
      "Using TensorFlow backend.\n"
     ]
    }
   ],
   "source": [
    "import tensorflow as tf\n",
    "from tensorflow import keras\n",
    "from tensorflow.keras import layers\n",
    "from tensorflow.keras.models import model_from_config\n",
    "from keras import backend as K\n",
    "\n",
    "print(tf.__version__)\n",
    "print(tf.keras.__version__)"
   ]
  },
  {
   "cell_type": "code",
   "execution_count": 3,
   "metadata": {},
   "outputs": [],
   "source": [
    "class Memory:   # stored as ( s, a, r, s_, d )\n",
    "    def __init__(self, capacity):\n",
    "        self.memory = deque(maxlen=capacity)\n",
    "\n",
    "    def add(self, sample, error):\n",
    "        self.memory.append(sample)        \n",
    "\n",
    "    def sample(self, n):\n",
    "        n = min(n, len(self.memory))\n",
    "        return random.sample(self.memory, n)\n",
    "\n",
    "    def isFull(self):\n",
    "        return len(self.memory) >= self.memory.maxlen\n",
    "    \n",
    "    def update(self, idx, p):\n",
    "        pass\n",
    "\n",
    "\n",
    "class SumTree:\n",
    "    def __init__(self, capacity):\n",
    "        self.write = 0\n",
    "        self.capacity = capacity\n",
    "        self.tree = np.zeros( 2*capacity - 1 )\n",
    "        self.data = np.zeros( capacity, dtype=object )\n",
    "\n",
    "    def _propagate(self, idx, change):\n",
    "        parent = (idx - 1) // 2\n",
    "\n",
    "        self.tree[parent] += change\n",
    "\n",
    "        if parent != 0:\n",
    "            self._propagate(parent, change)\n",
    "\n",
    "    def _retrieve(self, idx, s):\n",
    "        left = 2 * idx + 1\n",
    "        right = left + 1\n",
    "\n",
    "        if left >= len(self.tree):\n",
    "            return idx\n",
    "\n",
    "        if s <= self.tree[left]:\n",
    "            return self._retrieve(left, s)\n",
    "        else:\n",
    "            return self._retrieve(right, s-self.tree[left])\n",
    "\n",
    "    def total(self):\n",
    "        return self.tree[0]\n",
    "\n",
    "    def add(self, p, data):\n",
    "        idx = self.write + self.capacity - 1\n",
    "\n",
    "        self.data[self.write] = data\n",
    "        self.update(idx, p)\n",
    "\n",
    "        self.write += 1\n",
    "        if self.write >= self.capacity:\n",
    "            self.write = 0\n",
    "\n",
    "    def update(self, idx, p):\n",
    "        change = p - self.tree[idx]\n",
    "\n",
    "        self.tree[idx] = p\n",
    "        self._propagate(idx, change)\n",
    "\n",
    "    def get(self, s):\n",
    "        idx = self._retrieve(0, s)\n",
    "        dataIdx = idx - self.capacity + 1\n",
    "\n",
    "        return (idx, self.tree[idx], self.data[dataIdx])\n",
    "    \n",
    "class PERMemory:   # stored as ( s, a, r, s_, d ) in SumTree\n",
    "    def __init__(self, capacity, alpha, epsilon=0.01):\n",
    "        self.tree = SumTree(capacity)\n",
    "        self.alpha = alpha\n",
    "        self.epsilon = epsilon\n",
    "\n",
    "    def _getPriority(self, error):\n",
    "        return (error + self.epsilon) ** self.alpha\n",
    "\n",
    "    def add(self, sample, error):\n",
    "        p = self._getPriority(error)\n",
    "        self.tree.add(p, sample) \n",
    "\n",
    "    def sample(self, n):\n",
    "        batch = []\n",
    "        segment = self.tree.total() / n\n",
    "\n",
    "        for i in range(n):\n",
    "            a = segment * i\n",
    "            b = segment * (i + 1)\n",
    "\n",
    "            s = random.uniform(a, b)\n",
    "            (idx, p, data) = self.tree.get(s)\n",
    "            batch.append( (idx, data) )\n",
    "\n",
    "        return batch\n",
    "\n",
    "    def update(self, idx, error):\n",
    "        p = self._getPriority(error)\n",
    "        self.tree.update(idx, p)"
   ]
  },
  {
   "cell_type": "code",
   "execution_count": 4,
   "metadata": {},
   "outputs": [],
   "source": [
    "class DQNAgent:\n",
    "    def __init__(self, observation_size, action_size):\n",
    "        self.observation_size = observation_size\n",
    "        self.action_size = action_size\n",
    "        self.hidden_units = 64\n",
    "        self.batch_size = 32\n",
    "        \n",
    "        self.gamma = 1.0\n",
    "        self.epsilon = 0.1\n",
    "        self.learning_rate = 0.0075\n",
    "        \n",
    "        self.memory = PERMemory(10000, 0.2)\n",
    "        \n",
    "        self.steps = 0\n",
    "        self.update_after = 1000\n",
    "            \n",
    "        self.model = self._build_model()\n",
    "        self.model_target = self._clone_model(self.model)\n",
    "        \n",
    "        self.update_target_model()\n",
    "        \n",
    "    def _build_model(self):\n",
    "        inputs = keras.Input(shape = (self.observation_size,))\n",
    "        \n",
    "        # Shared layers\n",
    "        x = layers.Dense(self.hidden_units, \n",
    "                         activation='relu', \n",
    "                         kernel_initializer='he_uniform')(inputs)\n",
    "     \n",
    "        x = layers.Dense(self.hidden_units, \n",
    "                         activation='relu', \n",
    "                         kernel_initializer='he_uniform')(x)\n",
    "\n",
    "        # Learn advantage\n",
    "        adv = layers.Dense(self.hidden_units, \n",
    "                         activation='relu', \n",
    "                         kernel_initializer='he_uniform')(x)\n",
    "        adv = layers.Dense(self.action_size, \n",
    "                         activation='linear', \n",
    "                         kernel_initializer='he_uniform')(adv)\n",
    "        adv = layers.Lambda(lambda a: a - K.mean(a, axis=1, keepdims=True), output_shape=(action_size,))(adv)\n",
    "        \n",
    "        # Learn value\n",
    "        value = layers.Dense(self.hidden_units, \n",
    "                         activation='relu', \n",
    "                         kernel_initializer='he_uniform')(x)\n",
    "        value = layers.Dense(1, \n",
    "                         activation='linear', \n",
    "                         kernel_initializer='he_uniform')(value)\n",
    "        \n",
    "        # Combine into Q\n",
    "        q_out = layers.Add()([adv, value])\n",
    "        \n",
    "        model = keras.Model(inputs=inputs, outputs=q_out)\n",
    "\n",
    "        model.compile(optimizer=tf.keras.optimizers.Adam(self.learning_rate),\n",
    "                      loss='mse')\n",
    "        return model\n",
    "    \n",
    "    def _clone_model(self, model):\n",
    "        config = {\n",
    "            'class_name': model.__class__.__name__,\n",
    "            'config': model.get_config(),\n",
    "        }\n",
    "        clone = model_from_config(config)\n",
    "        clone.set_weights(model.get_weights())\n",
    "        return clone       \n",
    "        \n",
    "    def _act_egreedy(self, best_action):\n",
    "        action_probs = np.ones(self.action_size, dtype=float) * self.epsilon / self.action_size\n",
    "        action_probs[best_action] += (1.0 - self.epsilon)\n",
    "        return np.random.choice(np.arange(len(action_probs)), p=action_probs)\n",
    "\n",
    "    def remember(self, sample):\n",
    "        _, _, errors = self._get_targets([(0, sample)])\n",
    "        self.memory.add(sample, errors[0])\n",
    "        \n",
    "        if (self.steps % self.update_after == 0):\n",
    "            self.update_target_model()\n",
    "            \n",
    "        \n",
    "    def act(self, observation, train=True):\n",
    "        observation = np.reshape(observation, [1, self.observation_size]) \n",
    "        q_values = self.model.predict(observation)[0]\n",
    "        action = np.argmax(q_values)\n",
    "        \n",
    "        if (train==True):\n",
    "            # if we are training.  choose e-greedy.\n",
    "            action = self._act_egreedy(action)\n",
    "        \n",
    "        return action\n",
    "    \n",
    "    def _get_targets(self, batch):\n",
    "        no_state = np.zeros(self.observation_size)\n",
    "\n",
    "        observations = np.array([ x[1][0] for x in batch ])\n",
    "        next_observations = np.array([ (no_state if x[1][4] is True else x[1][3]) for x in batch ])\n",
    "\n",
    "        p = self.model.predict(observations)\n",
    "        p_ = self.model.predict(next_observations)\n",
    "        pTarget_ = self.model_target.predict(next_observations)\n",
    "        \n",
    "        targets = p\n",
    "        \n",
    "        errors = np.zeros(len(batch))\n",
    "        \n",
    "        for index, batch_entry in enumerate(batch):\n",
    "            sample = batch_entry[1]\n",
    "            action = sample[1]\n",
    "            reward = sample[2]\n",
    "            done = sample[4]\n",
    "            \n",
    "            old_target = targets[index][action]\n",
    "            \n",
    "            if (done == True):\n",
    "                targets[index][action] = reward\n",
    "            else:\n",
    "                targets[index][action] = reward + self.gamma * pTarget_[index][ np.argmax(p_[index]) ]  # double DQN\n",
    "        \n",
    "            errors[index] = abs(old_target - targets[index][action])\n",
    "\n",
    "        return observations, targets, errors\n",
    "        \n",
    "    def replay(self):\n",
    "        batch = self.memory.sample(self.batch_size)\n",
    "        observations, targets, errors = self._get_targets(batch)\n",
    "\n",
    "        #update errors\n",
    "        for i in range(len(batch)):\n",
    "            idx = batch[i][0]\n",
    "            self.memory.update(idx, errors[i])\n",
    "\n",
    "        self.model.fit(observations, targets, epochs=1, verbose=0)\n",
    "\n",
    "    def update_target_model(self):\n",
    "        self.model_target.set_weights(self.model.get_weights())        \n",
    "                \n",
    "\n",
    "def train_agent (env, agent, num_episodes, train_until):\n",
    "      \n",
    "    rewards = []\n",
    "        \n",
    "    for episodeIx in range(num_episodes):\n",
    "        # reset state in the beginning of each game\n",
    "        done = False\n",
    "        observation = env.reset()\n",
    "        episode_rewards = 0\n",
    "        while not done:\n",
    "            action = agent.act(observation)\n",
    "            next_observation, reward, done, _ = env.step(action)\n",
    "            agent.remember((observation, action, reward, next_observation, done))\n",
    "            observation = next_observation\n",
    "            episode_rewards += reward\n",
    "            \n",
    "            # train the agent with the experience of the episode\n",
    "            agent.replay()\n",
    "            \n",
    "        rewards.append(episode_rewards)\n",
    "        \n",
    "        rewards_mean = np.mean(rewards[-min(15, len(rewards)):])\n",
    "        \n",
    "        print(\"\\repisode: {}/{}.  rewards was {}.  Mean is {}\".format(episodeIx+1, num_episodes, episode_rewards, rewards_mean), end=\"\")\n",
    "            \n",
    "        if  rewards_mean > train_until:\n",
    "            break\n",
    "            \n",
    "    return rewards\n",
    "            \n",
    "def run_episode(env, agent, render=True):\n",
    "    rewards = 0\n",
    "    done = False\n",
    "    observation = env.reset()\n",
    "\n",
    "    while not done:\n",
    "        if (render is True):\n",
    "            env.render()\n",
    "        action = agent.act(observation, train=False)\n",
    "        observation, reward, done, _ = env.step(action)\n",
    "        rewards += reward\n",
    "        \n",
    "    return rewards"
   ]
  },
  {
   "cell_type": "code",
   "execution_count": 5,
   "metadata": {},
   "outputs": [],
   "source": [
    "env = gym.make('CartPole-v1')\n",
    "\n",
    "observation_size = env.observation_space.shape[0]\n",
    "action_size = env.action_space.n"
   ]
  },
  {
   "cell_type": "code",
   "execution_count": 6,
   "metadata": {},
   "outputs": [],
   "source": [
    "agent = DQNAgent(observation_size, action_size)"
   ]
  },
  {
   "cell_type": "code",
   "execution_count": 7,
   "metadata": {},
   "outputs": [
    {
     "name": "stdout",
     "output_type": "stream",
     "text": [
      "episode: 125/1000.  rewards was 500.0.  Mean is 500.03333333333334"
     ]
    }
   ],
   "source": [
    "rewards = train_agent(env, agent, 1000, 490)"
   ]
  },
  {
   "cell_type": "code",
   "execution_count": 8,
   "metadata": {},
   "outputs": [
    {
     "data": {
      "image/png": "[encoded data removed]",
      "text/plain": [
       "<Figure size 720x360 with 1 Axes>"
      ]
     },
     "metadata": {
      "needs_background": "light"
     },
     "output_type": "display_data"
    }
   ],
   "source": [
    "fig = plt.figure(figsize=(10,5))\n",
    "plt.plot(rewards)\n",
    "plt.show(fig)"
   ]
  },
  {
   "cell_type": "code",
   "execution_count": 9,
   "metadata": {},
   "outputs": [],
   "source": [
    "#agent.model.load_weights(\"cartpole_dqn.h5\")\n",
    "#agent.model.save_weights(\"cartpole_dqn.h5\")"
   ]
  },
  {
   "cell_type": "code",
   "execution_count": 14,
   "metadata": {},
   "outputs": [
    {
     "data": {
      "text/plain": [
       "500.0"
      ]
     },
     "execution_count": 14,
     "metadata": {},
     "output_type": "execute_result"
    }
   ],
   "source": [
    "run_episode(env, agent)"
   ]
  },
  {
   "cell_type": "code",
   "execution_count": 11,
   "metadata": {},
   "outputs": [],
   "source": [
    "alpha = 1\n",
    "epsilon = 0.0001\n",
    "errors = np.array([10, 3, 2, 1, 0])"
   ]
  },
  {
   "cell_type": "code",
   "execution_count": 12,
   "metadata": {},
   "outputs": [],
   "source": [
    "priority = np.power(errors + epsilon, alpha)\n",
    "priority_sum = np.sum(priority)\n",
    "probabilty = np.around(priority / priority_sum,2)\n"
   ]
  },
  {
   "cell_type": "code",
   "execution_count": 13,
   "metadata": {},
   "outputs": [
    {
     "name": "stdout",
     "output_type": "stream",
     "text": [
      "[1.00001e+01 3.00010e+00 2.00010e+00 1.00010e+00 1.00000e-04]\n",
      "[0.62 0.19 0.13 0.06 0.  ]\n"
     ]
    }
   ],
   "source": [
    "print (priority)\n",
    "print (probabilty)"
   ]
  },
  {
   "cell_type": "code",
   "execution_count": null,
   "metadata": {},
   "outputs": [],
   "source": []
  }
 ],
 "metadata": {
  "kernelspec": {
   "display_name": "Python 3",
   "language": "python",
   "name": "python3"
  },
  "language_info": {
   "codemirror_mode": {
    "name": "ipython",
    "version": 3
   },
   "file_extension": ".py",
   "mimetype": "text/x-python",
   "name": "python",
   "nbconvert_exporter": "python",
   "pygments_lexer": "ipython3",
   "version": "3.7.3"
  }
 },
 "nbformat": 4,
 "nbformat_minor": 2
}
