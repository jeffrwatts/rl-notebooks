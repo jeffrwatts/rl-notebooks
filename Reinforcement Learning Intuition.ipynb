{
 "cells": [
  {
   "cell_type": "code",
   "execution_count": 1,
   "metadata": {},
   "outputs": [],
   "source": [
    "import gym\n",
    "import numpy as np\n",
    "import random\n",
    "\n",
    "# This import registers the 3D projection, but is otherwise unused.\n",
    "from mpl_toolkits.mplot3d import Axes3D  # noqa: F401 unused import\n",
    "\n",
    "import matplotlib.pyplot as plt\n",
    "from matplotlib import cm\n",
    "from matplotlib.ticker import LinearLocator, FormatStrFormatter"
   ]
  },
  {
   "cell_type": "markdown",
   "metadata": {},
   "source": [
    "# BlackJack"
   ]
  },
  {
   "cell_type": "code",
   "execution_count": 2,
   "metadata": {},
   "outputs": [],
   "source": [
    "env = gym.make('Blackjack-v0')\n",
    "\n",
    "PLAYER_STATE = 0\n",
    "DEALER_STATE = 1\n",
    "USABLE_ACE = 2\n",
    "\n",
    "PLAYER_STATE_COUNT = env.observation_space.spaces[PLAYER_STATE].n\n",
    "DEALER_STATE_COUNT = env.observation_space.spaces[DEALER_STATE].n\n",
    "USABLE_ACE_COUNT = env.observation_space.spaces[USABLE_ACE].n\n",
    "\n",
    "ACTION_SPACE = 2 #env.action_space.n\n",
    "\n",
    "ENVIRONMENT_SPACE = PLAYER_STATE_COUNT * DEALER_STATE_COUNT * USABLE_ACE_COUNT\n",
    "\n",
    "\n",
    "def get_state_index(state):\n",
    "    index = state[PLAYER_STATE] * (DEALER_STATE_COUNT * USABLE_ACE_COUNT)\n",
    "    \n",
    "    index += state[DEALER_STATE] * USABLE_ACE_COUNT\n",
    "    \n",
    "    if (state[USABLE_ACE] == True):\n",
    "        index += 1\n",
    "        \n",
    "    return index\n",
    "\n",
    "def get_discounted_reward (rewards, gamma):\n",
    "    discounted_reward = 0\n",
    "    gamma_value = gamma\n",
    "    for rewardIx in range(len(rewards)):\n",
    "        discounted_reward += rewards[rewardIx] * gamma_value\n",
    "        gamma_value *= gamma\n",
    "    return discounted_reward\n",
    "\n",
    "correct_policy = np.ones([PLAYER_STATE_COUNT, DEALER_STATE_COUNT, USABLE_ACE_COUNT]).astype(int)\n",
    "correct_policy[12, 4:7, 0] = 0\n",
    "correct_policy[13, 2:7, 0] = 0\n",
    "correct_policy[14, 2:7, 0] = 0\n",
    "correct_policy[15, 2:7, 0] = 0\n",
    "correct_policy[16, 2:7, 0] = 0\n",
    "correct_policy[17:22, :, 0] = 0\n",
    "correct_policy[18, 2:9, 1] = 0\n",
    "correct_policy[19:22, :, 1] = 0\n",
    "correct_policy = correct_policy.flatten()\n",
    "\n",
    "\n",
    "less_than_20_policy = np.ones([PLAYER_STATE_COUNT, DEALER_STATE_COUNT, USABLE_ACE_COUNT]).astype(int)\n",
    "less_than_20_policy[20:22, :, :] = 0\n",
    "less_than_20_policy = less_than_20_policy.flatten()"
   ]
  },
  {
   "cell_type": "markdown",
   "metadata": {},
   "source": [
    "## Value of Policy Using Monte Carlo"
   ]
  },
  {
   "cell_type": "code",
   "execution_count": null,
   "metadata": {},
   "outputs": [],
   "source": [
    "NUMBER_OF_EPISODES = 100000\n",
    "gamma = 1\n",
    "policy = correct_policy\n",
    "\n",
    "mc_state_values = np.zeros(ENVIRONMENT_SPACE)\n",
    "mc_state_visits = np.zeros(ENVIRONMENT_SPACE)\n",
    "\n",
    "for episodeIx in range(NUMBER_OF_EPISODES):\n",
    "    episode = []\n",
    "    rewards = []\n",
    "    state = env.reset()\n",
    "    done = False\n",
    "        \n",
    "    # Run a episode\n",
    "    episode.append(state)\n",
    "    rewards.append(0)\n",
    "    \n",
    "    while not done:\n",
    "        action = policy[get_state_index(state)]\n",
    "        state, reward, done, _ = env.step(action)\n",
    "        episode.append(state)\n",
    "        rewards.append(reward)\n",
    "     \n",
    "    # Update values\n",
    "    for stepIx, state in enumerate(episode):\n",
    "        state_index = get_state_index(state)\n",
    "        state_value = get_discounted_reward(rewards[stepIx:], gamma)\n",
    "        mc_state_visits[state_index] += 1\n",
    "        alpha = 1.0 / mc_state_visits[state_index]\n",
    "        mc_state_values[state_index] += alpha * (state_value - mc_state_values[state_index])\n",
    "\n",
    "mc_state_values = mc_state_values.reshape(PLAYER_STATE_COUNT, DEALER_STATE_COUNT, USABLE_ACE_COUNT)"
   ]
  },
  {
   "cell_type": "code",
   "execution_count": null,
   "metadata": {},
   "outputs": [],
   "source": [
    "x = range(12, 22)\n",
    "y = range(1, 11)\n",
    "\n",
    "data = mc_state_values[12:22,1:11,0]\n",
    "\n",
    "fig = plt.figure()\n",
    "ax = fig.add_subplot(111, projection='3d')\n",
    "\n",
    "X, Y = np.meshgrid(x, y)  # `plot_surface` expects `x` and `y` data to be 2D\n",
    "ax.plot_surface(X.T, Y.T, data)\n",
    "\n",
    "plt.show()"
   ]
  },
  {
   "cell_type": "markdown",
   "metadata": {},
   "source": [
    "## Value of Policy using TD(0)"
   ]
  },
  {
   "cell_type": "code",
   "execution_count": null,
   "metadata": {},
   "outputs": [],
   "source": [
    "NUMBER_OF_EPISODES = 100000\n",
    "gamma = 1\n",
    "policy = correct_policy\n",
    "\n",
    "td0_state_values = np.zeros(ENVIRONMENT_SPACE)\n",
    "td0_state_visits = np.zeros(ENVIRONMENT_SPACE)\n",
    "\n",
    "episodeIx = 0\n",
    "state = env.reset() # start the environment and get initial state\n",
    "\n",
    "while episodeIx < NUMBER_OF_EPISODES:\n",
    "    # Act according to policy\n",
    "    action = policy[get_state_index(state)]\n",
    "    new_state, reward, done, _ = env.step(action)\n",
    "    \n",
    "    # Update current estimate for last state\n",
    "    state_index = get_state_index(state)\n",
    "    new_state_index = get_state_index(new_state)\n",
    "    td_error = reward + gamma * td0_state_values[new_state_index] - td0_state_values[state_index]\n",
    "    \n",
    "    td0_state_visits[state_index] += 1\n",
    "    alpha = 1.0 / td0_state_visits[state_index]\n",
    "    \n",
    "    td0_state_values[state_index] += (alpha * td_error)\n",
    "    \n",
    "    # If we reached the end of an episode, reset the environment and continue\n",
    "    if done:\n",
    "        episodeIx += 1\n",
    "        td0_state_values[new_state_index] += (alpha * - td0_state_values[new_state_index])\n",
    "        state = env.reset()\n",
    "    else:\n",
    "        state = new_state\n",
    "\n",
    "td0_state_values = td0_state_values.reshape(PLAYER_STATE_COUNT, DEALER_STATE_COUNT, USABLE_ACE_COUNT)"
   ]
  },
  {
   "cell_type": "code",
   "execution_count": null,
   "metadata": {},
   "outputs": [],
   "source": [
    "x = range(12, 22)\n",
    "y = range(1, 11)\n",
    "\n",
    "data = td0_state_values[12:22,1:11,0]\n",
    "\n",
    "fig = plt.figure()\n",
    "ax = fig.add_subplot(111, projection='3d')\n",
    "\n",
    "X, Y = np.meshgrid(x, y)  # `plot_surface` expects `x` and `y` data to be 2D\n",
    "ax.plot_surface(X.T, Y.T, data)\n",
    "\n",
    "plt.show()"
   ]
  },
  {
   "cell_type": "markdown",
   "metadata": {},
   "source": [
    "# Value of Policy using TD(Lambda)"
   ]
  },
  {
   "cell_type": "code",
   "execution_count": null,
   "metadata": {},
   "outputs": [],
   "source": [
    "NUMBER_OF_EPISODES = 100000\n",
    "gamma = 1\n",
    "policy = correct_policy\n",
    "\n",
    "tdl_state_values = np.zeros(ENVIRONMENT_SPACE)\n",
    "tdl_state_visits = np.zeros(ENVIRONMENT_SPACE)\n",
    "eligibility = np.zeros(ENVIRONMENT_SPACE)\n",
    "\n",
    "lambdah = 0.9\n",
    "episodeIx = 0\n",
    "state = env.reset() # start the environment and get initial state\n",
    "\n",
    "while episodeIx < NUMBER_OF_EPISODES:\n",
    "    # Act according to policy\n",
    "    action = policy[get_state_index(state)]\n",
    "    new_state, reward, done, _ = env.step(action)\n",
    "    \n",
    "    # Update current estimate for last state\n",
    "    state_index = get_state_index(state)\n",
    "    new_state_index = get_state_index(new_state)\n",
    "\n",
    "    # Update eligibilities\n",
    "    eligibility *= lambdah * gamma\n",
    "    eligibility[state_index] += 1.0\n",
    "    \n",
    "    td_error = reward + (gamma * tdl_state_values[new_state_index]) - tdl_state_values[state_index]\n",
    "    \n",
    "    tdl_state_visits[state_index] += 1\n",
    "    alpha = 1.0 / tdl_state_visits[state_index]\n",
    "    \n",
    "    tdl_state_values += alpha * td_error * eligibility\n",
    "    \n",
    "    # If we reached the end of an episode, reset the environment and continue\n",
    "    if done:\n",
    "        episodeIx += 1\n",
    "        tdl_state_values = tdl_state_values + alpha * (- tdl_state_values[new_state_index] * eligibility)\n",
    "        eligibility = np.zeros(PLAYER_STATE_COUNT * DEALER_STATE_COUNT * USABLE_ACE_COUNT)\n",
    "        state = env.reset()\n",
    "    else:\n",
    "        state = new_state\n",
    "\n",
    "tdl_state_values = tdl_state_values.reshape(PLAYER_STATE_COUNT, DEALER_STATE_COUNT, USABLE_ACE_COUNT)"
   ]
  },
  {
   "cell_type": "code",
   "execution_count": null,
   "metadata": {},
   "outputs": [],
   "source": [
    "x = range(12, 22)\n",
    "y = range(1, 11)\n",
    "\n",
    "data = tdl_state_values[12:22,1:11,0]\n",
    "\n",
    "fig = plt.figure()\n",
    "ax = fig.add_subplot(111, projection='3d')\n",
    "\n",
    "X, Y = np.meshgrid(x, y)  # `plot_surface` expects `x` and `y` data to be 2D\n",
    "ax.plot_surface(X.T, Y.T, data)\n",
    "\n",
    "plt.show()"
   ]
  },
  {
   "cell_type": "markdown",
   "metadata": {},
   "source": [
    "# GLIE - Monte Carlo"
   ]
  },
  {
   "cell_type": "code",
   "execution_count": 11,
   "metadata": {},
   "outputs": [
    {
     "name": "stdout",
     "output_type": "stream",
     "text": [
      "0.14646464646464646\n"
     ]
    }
   ],
   "source": [
    "Q_mc = np.random.rand(ENVIRONMENT_SPACE, ACTION_SPACE)\n",
    "N = np.zeros([ENVIRONMENT_SPACE, ACTION_SPACE])\n",
    "\n",
    "NUMBER_OF_EPISODES = 500000\n",
    "gamma = 1\n",
    "\n",
    "for episodeIx in range(NUMBER_OF_EPISODES):\n",
    "    episode = []\n",
    "    state = env.reset()\n",
    "    done = False\n",
    "        \n",
    "    # Run a episode\n",
    "    while not done:\n",
    "        stateIx = get_state_index(state)\n",
    "        k = np.amin(N[stateIx,:]) + 1\n",
    "        action = np.argmax(Q_mc[stateIx,:] + (np.random.rand(1,ACTION_SPACE) * 100 / (k+1)))\n",
    "        new_state, reward, done, _ = env.step(action)\n",
    "        episode.append((state,action))\n",
    "        state = new_state\n",
    "        \n",
    "    # Update value functions after the sampling from the episode\n",
    "    steps = len(episode)\n",
    "        \n",
    "    for state, action in episode:\n",
    "        stateIx = get_state_index(state)\n",
    "        N[stateIx,action] +=1\n",
    "        G = gamma**steps*reward # delayed reward\n",
    "        qoffset = 1/N[stateIx,action]*(G-Q_mc[stateIx,action])\n",
    "        Q_mc[stateIx,action] += qoffset\n",
    "\n",
    "learned_policy_mc = np.argmax(Q_mc,axis=1)\n",
    "view_learned_policy_mc = learned_policy_mc.reshape(PLAYER_STATE_COUNT, DEALER_STATE_COUNT, USABLE_ACE_COUNT)\n",
    "view_correct_policy = correct_policy.reshape(PLAYER_STATE_COUNT, DEALER_STATE_COUNT, USABLE_ACE_COUNT)\n",
    "error_rate = np.mean((np.bitwise_xor(view_learned_policy_mc[4:22, :, :], view_correct_policy[4:22, :, :])))\n",
    "print(error_rate)"
   ]
  },
  {
   "cell_type": "code",
   "execution_count": 12,
   "metadata": {},
   "outputs": [
    {
     "data": {
      "image/png": "[encoded data removed]",
      "text/plain": [
       "<Figure size 432x288 with 1 Axes>"
      ]
     },
     "metadata": {
      "needs_background": "light"
     },
     "output_type": "display_data"
    }
   ],
   "source": [
    "q_max_mc = np.amax(Q_mc, axis=1)\n",
    "q_max_mc = q_max_mc.reshape(PLAYER_STATE_COUNT, DEALER_STATE_COUNT, USABLE_ACE_COUNT)\n",
    "\n",
    "x = range(12, 22)\n",
    "y = range(1, 11)\n",
    "\n",
    "data = q_max_mc[12:22,1:11,0]\n",
    "\n",
    "fig = plt.figure()\n",
    "ax = fig.add_subplot(111, projection='3d')\n",
    "\n",
    "X, Y = np.meshgrid(x, y)  # `plot_surface` expects `x` and `y` data to be 2D\n",
    "ax.plot_surface(X.T, Y.T, data)\n",
    "\n",
    "plt.show()"
   ]
  },
  {
   "cell_type": "code",
   "execution_count": 13,
   "metadata": {},
   "outputs": [
    {
     "name": "stdout",
     "output_type": "stream",
     "text": [
      "-5315.0\n"
     ]
    }
   ],
   "source": [
    "rewardTotal = 0\n",
    "policy = learned_policy_mc\n",
    "\n",
    "for episodeIx in range(100000):\n",
    "    state = env.reset()\n",
    "    done = False\n",
    "    \n",
    "    # Run a episode\n",
    "    while not done:\n",
    "        action = policy[get_state_index(state)]\n",
    "        state, reward, done, _ = env.step(action)\n",
    "\n",
    "    rewardTotal += reward\n",
    "print(rewardTotal)"
   ]
  },
  {
   "cell_type": "markdown",
   "metadata": {},
   "source": [
    "# SARSA"
   ]
  },
  {
   "cell_type": "code",
   "execution_count": 23,
   "metadata": {},
   "outputs": [
    {
     "name": "stdout",
     "output_type": "stream",
     "text": [
      "0.3333333333333333\n"
     ]
    }
   ],
   "source": [
    "Q_sarsa = np.random.rand(ENVIRONMENT_SPACE, ACTION_SPACE)\n",
    "k = np.zeros(ENVIRONMENT_SPACE)\n",
    "\n",
    "NUMBER_OF_EPISODES = 500000\n",
    "gamma = 1\n",
    "lambdah = 0.9\n",
    "\n",
    "episodeIx = 0\n",
    "while episodeIx < NUMBER_OF_EPISODES:\n",
    "\n",
    "    eligibility_sarsa = np.zeros((ENVIRONMENT_SPACE, ACTION_SPACE))\n",
    "    \n",
    "    done = False\n",
    "    \n",
    "    state = env.reset()\n",
    "    state_index = get_state_index(state)\n",
    "    action = np.argmax(Q_sarsa[state_index,:] + np.random.randn(1,ACTION_SPACE)*(150./(k[state_index]+1)))\n",
    "    \n",
    "    while done == False:\n",
    "        new_state, reward, done, _ = env.step(action)\n",
    "        \n",
    "        new_state_index = get_state_index(new_state)\n",
    "        new_action = np.argmax(Q_sarsa[new_state_index,:] + np.random.randn(1,ACTION_SPACE)*(150./(k[state_index]+1)))\n",
    "        \n",
    "        if done:\n",
    "            td_error = reward - Q_sarsa[state_index, action]\n",
    "            episodeIx+=1\n",
    "        else:\n",
    "            td_error = reward + (gamma*Q_sarsa[new_state_index, new_action]) - Q_sarsa[state_index, action]   \n",
    "        \n",
    "        k[state_index]+=1\n",
    "        alpha = 1. / k[state_index]\n",
    "       \n",
    "        eligibility_sarsa[state_index,action] += 1\n",
    "        Q_sarsa += alpha * td_error * eligibility_sarsa\n",
    "        \n",
    "        eligibility_sarsa *= gamma * lambdah\n",
    "        state, action = new_state, new_action\n",
    "        \n",
    "learned_policy_sarsa = np.argmax(Q_sarsa,axis=1)\n",
    "view_learned_policy_sarsa = learned_policy_sarsa.reshape(PLAYER_STATE_COUNT, DEALER_STATE_COUNT, USABLE_ACE_COUNT)\n",
    "view_correct_policy = correct_policy.reshape(PLAYER_STATE_COUNT, DEALER_STATE_COUNT, USABLE_ACE_COUNT)\n",
    "error_rate = np.mean((np.bitwise_xor(view_learned_policy_sarsa[4:22, :, :], view_correct_policy[4:22, :, :])))\n",
    "print(error_rate)"
   ]
  },
  {
   "cell_type": "code",
   "execution_count": 20,
   "metadata": {},
   "outputs": [
    {
     "data": {
      "image/png": "[encoded data removed]",
      "text/plain": [
       "<Figure size 432x288 with 1 Axes>"
      ]
     },
     "metadata": {
      "needs_background": "light"
     },
     "output_type": "display_data"
    }
   ],
   "source": [
    "q_max_sarsa = np.amax(Q_sarsa, axis=1)\n",
    "q_max_sarsa = q_max_sarsa.reshape(PLAYER_STATE_COUNT, DEALER_STATE_COUNT, USABLE_ACE_COUNT)\n",
    "\n",
    "x = range(12, 22)\n",
    "y = range(1, 11)\n",
    "\n",
    "data = q_max_sarsa[12:22,1:11,0]\n",
    "\n",
    "fig = plt.figure()\n",
    "ax = fig.add_subplot(111, projection='3d')\n",
    "\n",
    "X, Y = np.meshgrid(x, y)  # `plot_surface` expects `x` and `y` data to be 2D\n",
    "ax.plot_surface(X.T, Y.T, data)\n",
    "\n",
    "plt.show()"
   ]
  },
  {
   "cell_type": "code",
   "execution_count": 14,
   "metadata": {},
   "outputs": [
    {
     "name": "stdout",
     "output_type": "stream",
     "text": [
      "-10896.0\n"
     ]
    }
   ],
   "source": [
    "rewardTotal = 0\n",
    "policy = learned_policy_sarsa\n",
    "\n",
    "for episodeIx in range(100000):\n",
    "    state = env.reset()\n",
    "    done = False\n",
    "    \n",
    "    # Run a episode\n",
    "    while not done:\n",
    "        action = policy[get_state_index(state)]\n",
    "        state, reward, done, _ = env.step(action)\n",
    "\n",
    "    rewardTotal += reward\n",
    "print(rewardTotal)"
   ]
  },
  {
   "cell_type": "code",
   "execution_count": null,
   "metadata": {},
   "outputs": [],
   "source": []
  }
 ],
 "metadata": {
  "kernelspec": {
   "display_name": "Python 3",
   "language": "python",
   "name": "python3"
  },
  "language_info": {
   "codemirror_mode": {
    "name": "ipython",
    "version": 3
   },
   "file_extension": ".py",
   "mimetype": "text/x-python",
   "name": "python",
   "nbconvert_exporter": "python",
   "pygments_lexer": "ipython3",
   "version": "3.7.3"
  }
 },
 "nbformat": 4,
 "nbformat_minor": 2
}
